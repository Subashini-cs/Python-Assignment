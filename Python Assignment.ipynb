{
 "cells": [
  {
   "cell_type": "code",
   "execution_count": 1,
   "id": "c79f3f3b",
   "metadata": {},
   "outputs": [
    {
     "name": "stdout",
     "output_type": "stream",
     "text": [
      "[1 2 3 4 5 6 7 8 9]\n",
      "range(1, 10)\n",
      "[1, 2, 3, 4, 5, 6, 7, 8, 9]\n",
      "[ 0.  1.  2.  3.  4.  5.  6.  7.  8.  9. 10.]\n",
      "[ 0.5  1.3  2.1  2.9  3.7  4.5  5.3  6.1  6.9  7.7  8.5  9.3 10.1]\n"
     ]
    }
   ],
   "source": [
    "#1.Create the evenly spaced array using arange ? \n",
    "import numpy as np\n",
    "a = np.arange(1, 10)\n",
    "print(a)\n",
    "x = range(1, 10)\n",
    "print(x)    # x is an iterator\n",
    "print(list(x))\n",
    "\n",
    "# further arange examples:\n",
    "x = np.arange(10.4)\n",
    "print(x)\n",
    "x = np.arange(0.5, 10.4, 0.8)\n",
    "print(x)\n"
   ]
  },
  {
   "cell_type": "code",
   "execution_count": 4,
   "id": "f129a7b1",
   "metadata": {},
   "outputs": [
    {
     "name": "stdout",
     "output_type": "stream",
     "text": [
      "50 values between 1 to 10 [ 1.          1.18367347  1.36734694  1.55102041  1.73469388  1.91836735\n",
      "  2.10204082  2.28571429  2.46938776  2.65306122  2.83673469  3.02040816\n",
      "  3.20408163  3.3877551   3.57142857  3.75510204  3.93877551  4.12244898\n",
      "  4.30612245  4.48979592  4.67346939  4.85714286  5.04081633  5.2244898\n",
      "  5.40816327  5.59183673  5.7755102   5.95918367  6.14285714  6.32653061\n",
      "  6.51020408  6.69387755  6.87755102  7.06122449  7.24489796  7.42857143\n",
      "  7.6122449   7.79591837  7.97959184  8.16326531  8.34693878  8.53061224\n",
      "  8.71428571  8.89795918  9.08163265  9.26530612  9.44897959  9.63265306\n",
      "  9.81632653 10.        ]\n",
      "7 values between 1 to 10  [ 1.   2.5  4.   5.5  7.   8.5 10. ]\n",
      "excluding end points [1.         2.28571429 3.57142857 4.85714286 6.14285714 7.42857143\n",
      " 8.71428571]\n"
     ]
    }
   ],
   "source": [
    "#2.Create the evenly spaced array using linespace ?\n",
    "import numpy as np\n",
    "# 50 values between 1 and 10:\n",
    "print(\"50 values between 1 to 10\",np.linspace(1, 10))\n",
    "# 7 values between 1 and 10:\n",
    "print(\"7 values between 1 to 10 \",np.linspace(1, 10, 7))\n",
    "# excluding the endpoint:\n",
    "print(\"excluding end points\",np.linspace(1, 10, 7, endpoint=False))\n"
   ]
  },
  {
   "cell_type": "code",
   "execution_count": 5,
   "id": "6294fa8a",
   "metadata": {},
   "outputs": [
    {
     "name": "stdout",
     "output_type": "stream",
     "text": [
      "x:  42\n",
      "The type of x:  <class 'numpy.ndarray'>\n",
      "The dimension of x: 0\n"
     ]
    }
   ],
   "source": [
    "#3.Create a Zero dimension array in Numpy also print its type and dimension?\n",
    "import numpy as np\n",
    "x = np.array(42)\n",
    "print(\"x: \", x)\n",
    "print(\"The type of x: \", type(x))\n",
    "print(\"The dimension of x:\", np.ndim(x))\n"
   ]
  },
  {
   "cell_type": "code",
   "execution_count": 7,
   "id": "8e518976",
   "metadata": {},
   "outputs": [
    {
     "name": "stdout",
     "output_type": "stream",
     "text": [
      "F:  [ 1  1  2  3  5  8 13 21]\n",
      "V:  [ 3.4  6.9 99.8 12.8]\n",
      "Type of F:  int32\n",
      "Type of V:  float64\n",
      "Dimension of F:  1\n",
      "Dimension of V:  1\n"
     ]
    }
   ],
   "source": [
    "#4. Create two One dimension array in Numpy also print its type and dimension?\n",
    "F = np.array([1, 1, 2, 3, 5, 8, 13, 21])\n",
    "V = np.array([3.4, 6.9, 99.8, 12.8])\n",
    "print(\"F: \", F)\n",
    "print(\"V: \", V)\n",
    "print(\"Type of F: \", F.dtype)\n",
    "print(\"Type of V: \", V.dtype)\n",
    "print(\"Dimension of F: \", np.ndim(F))\n",
    "print(\"Dimension of V: \", np.ndim(V))\n"
   ]
  },
  {
   "cell_type": "code",
   "execution_count": 8,
   "id": "c21df475",
   "metadata": {},
   "outputs": [
    {
     "name": "stdout",
     "output_type": "stream",
     "text": [
      "[[ 3.4  8.7  9.9]\n",
      " [ 1.1 -7.8 -0.7]\n",
      " [ 4.1 12.3  4.8]]\n",
      "2\n"
     ]
    }
   ],
   "source": [
    "#5. Write a code to create a two dimension array in Numpy and print its dimension?\n",
    "A = np.array([ [3.4, 8.7, 9.9], \n",
    "               [1.1, -7.8, -0.7],\n",
    "               [4.1, 12.3, 4.8]])\n",
    "print(A)\n",
    "print(A.ndim)\n"
   ]
  },
  {
   "cell_type": "code",
   "execution_count": 9,
   "id": "7bd5867b",
   "metadata": {},
   "outputs": [
    {
     "name": "stdout",
     "output_type": "stream",
     "text": [
      "[[[111 112]\n",
      "  [121 122]]\n",
      "\n",
      " [[211 212]\n",
      "  [221 222]]\n",
      "\n",
      " [[311 312]\n",
      "  [321 322]]]\n",
      "3\n"
     ]
    }
   ],
   "source": [
    "#6. Create a multi dimension array in Numpy and print its dimension?\n",
    "\n",
    "B = np.array([ [[111, 112], [121, 122]],\n",
    "               [[211, 212], [221, 222]],\n",
    "               [[311, 312], [321, 322]] ])\n",
    "print(B)\n",
    "print(B.ndim)\n"
   ]
  },
  {
   "cell_type": "code",
   "execution_count": 10,
   "id": "3eb5187c",
   "metadata": {},
   "outputs": [
    {
     "name": "stdout",
     "output_type": "stream",
     "text": [
      "(6, 3)\n"
     ]
    }
   ],
   "source": [
    "#7. Write a code to return the shape of an array\n",
    "x = np.array([ [67, 63, 87],\n",
    "               [77, 69, 59],\n",
    "               [85, 87, 99],\n",
    "               [79, 72, 71],\n",
    "               [63, 89, 93],\n",
    "               [68, 92, 78]])\n",
    "\n",
    "print(np.shape(x))\n"
   ]
  },
  {
   "cell_type": "code",
   "execution_count": 11,
   "id": "64ef3d36",
   "metadata": {},
   "outputs": [
    {
     "name": "stdout",
     "output_type": "stream",
     "text": [
      "[[67 63 87 77 69 59]\n",
      " [85 87 99 79 72 71]\n",
      " [63 89 93 68 92 78]]\n"
     ]
    }
   ],
   "source": [
    "#8. Write a code  to change the shape of the array\n",
    "x.shape=(3, 6)\n",
    "print(x)\n"
   ]
  },
  {
   "cell_type": "code",
   "execution_count": 12,
   "id": "565aa2fa",
   "metadata": {},
   "outputs": [
    {
     "name": "stdout",
     "output_type": "stream",
     "text": [
      "1\n",
      "21\n"
     ]
    }
   ],
   "source": [
    "#9. Write a code  to print the numbers in an array using its index value?\n",
    "\n",
    "F = np.array([1, 1, 2, 3, 5, 8, 13, 21])\n",
    "# print the first element of F\n",
    "print(F[0])\n",
    "# print the last element of F\n",
    "print(F[-1])\n"
   ]
  },
  {
   "cell_type": "code",
   "execution_count": 13,
   "id": "ec588d5a",
   "metadata": {},
   "outputs": [
    {
     "name": "stdout",
     "output_type": "stream",
     "text": [
      "1.1\n"
     ]
    }
   ],
   "source": [
    "#10. Write a code  to print the number using index value in multidimensional array?\n",
    "A = np.array([ [3.4, 8.7, 9.9], \n",
    "               [1.1, -7.8, -0.7],\n",
    "               [4.1, 12.3, 4.8]])\n",
    "\n",
    "print(A[1][0])\n"
   ]
  },
  {
   "cell_type": "code",
   "execution_count": 14,
   "id": "cd89b332",
   "metadata": {},
   "outputs": [
    {
     "name": "stdout",
     "output_type": "stream",
     "text": [
      "[ 1.1 -7.8 -0.7]\n",
      "1.1\n"
     ]
    }
   ],
   "source": [
    "#11.Print the index 1 of array A and return the 0th index in the 1st index of A?\n",
    "tmp = A[1]\n",
    "print(tmp)\n",
    "print(tmp[0])\n"
   ]
  },
  {
   "cell_type": "code",
   "execution_count": 15,
   "id": "91556a49",
   "metadata": {},
   "outputs": [
    {
     "name": "stdout",
     "output_type": "stream",
     "text": [
      "[2 3 4]\n",
      "[0 1 2 3]\n",
      "[6 7 8 9]\n",
      "[0 1 2 3 4 5 6 7 8 9]\n"
     ]
    }
   ],
   "source": [
    "#12.Perform slicing in single dimensional array?\n",
    "S = np.array([0, 1, 2, 3, 4, 5, 6, 7, 8, 9])\n",
    "print(S[2:5])\n",
    "print(S[:4])\n",
    "print(S[6:])\n",
    "print(S[:])\n"
   ]
  },
  {
   "cell_type": "code",
   "execution_count": 16,
   "id": "07efc77c",
   "metadata": {},
   "outputs": [
    {
     "name": "stdout",
     "output_type": "stream",
     "text": [
      "[[13 14 15]\n",
      " [23 24 25]\n",
      " [33 34 35]]\n",
      "[[41 42 43 44 45]\n",
      " [51 52 53 54 55]]\n",
      "[[15]\n",
      " [25]\n",
      " [35]\n",
      " [45]\n",
      " [55]]\n"
     ]
    }
   ],
   "source": [
    "#13. Write a code  to Perform slicing in multi dimensional array?\n",
    "A = np.array([\n",
    "[11, 12, 13, 14, 15],\n",
    "[21, 22, 23, 24, 25],\n",
    "[31, 32, 33, 34, 35],\n",
    "[41, 42, 43, 44, 45],\n",
    "[51, 52, 53, 54, 55]])\n",
    "\n",
    "print(A[:3, 2:])\n",
    "print(A[3:, :])\n",
    "print(A[:, 4:])\n"
   ]
  },
  {
   "cell_type": "code",
   "execution_count": 18,
   "id": "282e56ea",
   "metadata": {},
   "outputs": [
    {
     "name": "stdout",
     "output_type": "stream",
     "text": [
      "[ 0  1 22 23  4  5  6  7  8  9]\n"
     ]
    }
   ],
   "source": [
    "#14.Given A= [0, 1, 2, 3, 4, 5, 6, 7, 8, 9] where the values are taken from index 2 to index 5 is stored in S and change the index 0 to 22 and index 1 to 23 in S and print A.\n",
    "A = np.array([0, 1, 2, 3, 4, 5, 6, 7, 8, 9])\n",
    "S = A[2:6]\n",
    "S[0] = 22\n",
    "S[1] = 23\n",
    "print(A)\n"
   ]
  },
  {
   "cell_type": "code",
   "execution_count": 27,
   "id": "85645ec3",
   "metadata": {},
   "outputs": [
    {
     "data": {
      "text/plain": [
       "False"
      ]
     },
     "execution_count": 27,
     "metadata": {},
     "output_type": "execute_result"
    }
   ],
   "source": [
    "#15.Write a code to check whether the two array A and S share the same memory space?\n",
    "np.may_share_memory(A, S)\n"
   ]
  },
  {
   "cell_type": "code",
   "execution_count": 20,
   "id": "55a42659",
   "metadata": {},
   "outputs": [
    {
     "name": "stdout",
     "output_type": "stream",
     "text": [
      "[[42  1  2  3]\n",
      " [ 4  5  6  7]\n",
      " [ 8  9 10 11]]\n"
     ]
    }
   ],
   "source": [
    "#16.Create an array of 3 rows and 4 columns using numpy.arange function and change its 0 index value to be 42\n",
    "A = np.arange(12)\n",
    "B = A.reshape(3, 4)\n",
    "A[0] = 42\n",
    "print(B)\n"
   ]
  },
  {
   "cell_type": "code",
   "execution_count": 22,
   "id": "88affc64",
   "metadata": {},
   "outputs": [
    {
     "name": "stdout",
     "output_type": "stream",
     "text": [
      "[ 4.    5.    9.9   5.3   8.9   2.11 12.3  14.9 ]\n",
      "[ 8.8   11.    21.78  11.66  19.58   4.642 27.06  32.78 ]\n",
      "[ 2.62  3.62  8.52  3.92  7.52  0.73 10.92 13.52]\n"
     ]
    }
   ],
   "source": [
    "#17.A list is given  lst = [2,3, 7.9, 3.3, 6.9, 0.11, 10.3, 12.9] , add 2 to eachelement , multiply each element with 2.2 and subtract each element with1.38 in the given list .\n",
    "import numpy as np\n",
    "lst = [2,3, 7.9, 3.3, 6.9, 0.11, 10.3, 12.9]\n",
    "v = np.array(lst)\n",
    "v = v + 2\n",
    "print(v)\n",
    "print(v * 2.2)\n",
    "print(v - 1.38)\n"
   ]
  },
  {
   "cell_type": "code",
   "execution_count": 23,
   "id": "fce69e4d",
   "metadata": {},
   "outputs": [
    {
     "name": "stdout",
     "output_type": "stream",
     "text": [
      "Adding to arrays: \n",
      "[[12. 13. 14.]\n",
      " [22. 23. 24.]\n",
      " [32. 33. 34.]]\n",
      "\n",
      "Multiplying two arrays: \n",
      "[[22. 24. 26.]\n",
      " [42. 44. 46.]\n",
      " [62. 64. 66.]]\n"
     ]
    }
   ],
   "source": [
    "#18.Create two arrays named A and B and add them, add 1 with each element in B and find the product of two arrays\n",
    "import numpy as np\n",
    "A = np.array([ [11, 12, 13], [21, 22, 23], [31, 32, 33] ])\n",
    "B = np.ones((3,3))\n",
    "print(\"Adding to arrays: \")\n",
    "print(A + B)\n",
    "print(\"\\nMultiplying two arrays: \")\n",
    "print(A * (B + 1))\n"
   ]
  },
  {
   "cell_type": "code",
   "execution_count": 24,
   "id": "b5be965f",
   "metadata": {},
   "outputs": [
    {
     "name": "stdout",
     "output_type": "stream",
     "text": [
      "[[ 3  4  3]\n",
      " [ 2  4  6]\n",
      " [-3 -6 -9]]\n"
     ]
    }
   ],
   "source": [
    "#19. Write a code to perform multiplication of two arrays\n",
    "import numpy as np\n",
    "A = np.array([ [1, 2, 3], [2, 2, 2], [3, 3, 3] ])\n",
    "B = np.array([ [3, 2, 1], [1, 2, 3], [-1, -2, -3] ])\n",
    "R = A * B\n",
    "print(R)\n"
   ]
  },
  {
   "cell_type": "code",
   "execution_count": 26,
   "id": "dc9db7e7",
   "metadata": {},
   "outputs": [
    {
     "data": {
      "text/plain": [
       "array([[ True, False,  True],\n",
       "       [False,  True, False],\n",
       "       [ True,  True, False]])"
      ]
     },
     "execution_count": 26,
     "metadata": {},
     "output_type": "execute_result"
    }
   ],
   "source": [
    "#20.Check whether two arrays are equal using comparison operator ‘==’,where A=[ [11, 12, 13], [21, 22, 23], [31, 32, 33] ] and B=[ [11, 102, 13], [201, 22, 203], [31, 32, 303] ]\n",
    "import numpy as np\n",
    "A = np.array([ [11, 12, 13], [21, 22, 23], [31, 32, 33] ])\n",
    "B = np.array([ [11, 102, 13], [201, 22, 203], [31, 32, 303] ])\n",
    "A == B\n"
   ]
  },
  {
   "cell_type": "code",
   "execution_count": 29,
   "id": "e123703b",
   "metadata": {},
   "outputs": [
    {
     "name": "stdout",
     "output_type": "stream",
     "text": [
      "False\n",
      "True\n"
     ]
    }
   ],
   "source": [
    "#21. Check whether two arrays are equal using numpy.array_equal(),using the previously created array “A” and “B”\n",
    "print(np.array_equal(A, B))\n",
    "print(np.array_equal(A, A))\n",
    "\n"
   ]
  },
  {
   "cell_type": "code",
   "execution_count": 30,
   "id": "9861dd58",
   "metadata": {},
   "outputs": [
    {
     "name": "stdout",
     "output_type": "stream",
     "text": [
      "[[ True  True]\n",
      " [ True False]]\n",
      "[[ True False]\n",
      " [False False]]\n"
     ]
    }
   ],
   "source": [
    "#22.Given a=([ [True, True], [False, False]]) and b=([ [True, False], [True, False]]) check the arrays using logical_or and logical_and.\n",
    "a = np.array([ [True, True], [False, False]])\n",
    "b = np.array([ [True, False], [True, False]])\n",
    "print(np.logical_or(a, b))\n",
    "print(np.logical_and(a, b))\n"
   ]
  },
  {
   "cell_type": "code",
   "execution_count": 31,
   "id": "3ee036fe",
   "metadata": {},
   "outputs": [
    {
     "name": "stdout",
     "output_type": "stream",
     "text": [
      "Multiplication with broadcasting: \n",
      "[[11 24 39]\n",
      " [21 44 69]\n",
      " [31 64 99]]\n",
      "... and now addition with broadcasting: \n",
      "[[12 14 16]\n",
      " [22 24 26]\n",
      " [32 34 36]]\n"
     ]
    }
   ],
   "source": [
    "#23.Write a code to create multidimensional array A and a single dimensional array B .\n",
    "#Multiply A and B\n",
    "#Add A and B\n",
    "import numpy as np\n",
    "A = np.array([ [11, 12, 13], [21, 22, 23], [31, 32, 33] ])\n",
    "B = np.array([1, 2, 3])\n",
    "print(\"Multiplication with broadcasting: \")\n",
    "print(A * B)\n",
    "print(\"... and now addition with broadcasting: \")\n",
    "print(A + B)\n"
   ]
  },
  {
   "cell_type": "code",
   "execution_count": 32,
   "id": "f57320ef",
   "metadata": {},
   "outputs": [
    {
     "name": "stdout",
     "output_type": "stream",
     "text": [
      "[[1 2 3]\n",
      " [1 2 3]\n",
      " [1 2 3]]\n"
     ]
    }
   ],
   "source": [
    "#24.Given B = [1, 2, 3] , print array B with 3 rows and 3 columns\n",
    "B = np.array([[1, 2, 3],] * 3)\n",
    "print(B)\n"
   ]
  },
  {
   "cell_type": "code",
   "execution_count": 33,
   "id": "bacfa448",
   "metadata": {},
   "outputs": [
    {
     "data": {
      "text/plain": [
       "array([[1, 1, 1],\n",
       "       [2, 2, 2],\n",
       "       [3, 3, 3]])"
      ]
     },
     "execution_count": 33,
     "metadata": {},
     "output_type": "execute_result"
    }
   ],
   "source": [
    "#25.Consider the output of previously given array B and print the transpose of B\n",
    "np.array([[1, 2, 3],] * 3).transpose()\n"
   ]
  },
  {
   "cell_type": "code",
   "execution_count": 36,
   "id": "62287658",
   "metadata": {},
   "outputs": [
    {
     "data": {
      "text/plain": [
       "array([[1],\n",
       "       [2],\n",
       "       [3]])"
      ]
     },
     "execution_count": 36,
     "metadata": {},
     "output_type": "execute_result"
    }
   ],
   "source": [
    "#26. Given B = [1, 2, 3],consider the rows of B as columns and print the output.\n",
    "B = np.array([1, 2, 3])\n",
    "B[:, np.newaxis]\n",
    "\n"
   ]
  },
  {
   "cell_type": "code",
   "execution_count": 37,
   "id": "15cb8441",
   "metadata": {},
   "outputs": [
    {
     "name": "stdout",
     "output_type": "stream",
     "text": [
      "[ 0  1  2  3  4  5  6  7  8  9 10 11 12 13 14 15 16 17 18 19 20 21 22 23]\n",
      "[ 0  1  2  3  4  5  6  7  8  9 10 11 12 13 14 15 16 17 18 19 20 21 22 23]\n",
      "[ 0  8 16  2 10 18  4 12 20  6 14 22  1  9 17  3 11 19  5 13 21  7 15 23]\n",
      "[ 0  1  2  3  4  5  6  7  8  9 10 11 12 13 14 15 16 17 18 19 20 21 22 23]\n"
     ]
    }
   ],
   "source": [
    "#27.Write a code for flattening using the values \"C\", \"F\" and \"A\"\n",
    "import numpy as np\n",
    "A = np.array([[[ 0,  1],\n",
    "               [ 2,  3],\n",
    "               [ 4,  5],\n",
    "               [ 6,  7]],\n",
    "              [[ 8,  9],\n",
    "               [10, 11],\n",
    "               [12, 13],\n",
    "               [14, 15]],\n",
    "              [[16, 17],\n",
    "               [18, 19],\n",
    "               [20, 21],\n",
    "               [22, 23]]])\n",
    "Flattened_X = A.flatten()\n",
    "print(Flattened_X)\n",
    "print(A.flatten(order=\"C\"))\n",
    "print(A.flatten(order=\"F\"))\n",
    "print(A.flatten(order=\"A\"))\n"
   ]
  },
  {
   "cell_type": "code",
   "execution_count": 38,
   "id": "d51148a9",
   "metadata": {},
   "outputs": [
    {
     "data": {
      "text/plain": [
       "array([[[ 0,  1],\n",
       "        [ 2,  3],\n",
       "        [ 4,  5],\n",
       "        [ 6,  7]],\n",
       "\n",
       "       [[ 8,  9],\n",
       "        [10, 11],\n",
       "        [12, 13],\n",
       "        [14, 15]],\n",
       "\n",
       "       [[16, 17],\n",
       "        [18, 19],\n",
       "        [20, 21],\n",
       "        [22, 23]]])"
      ]
     },
     "execution_count": 38,
     "metadata": {},
     "output_type": "execute_result"
    }
   ],
   "source": [
    "#28.Write a code to create an array named X using reshape ()\n",
    "X = np.array(range(24))\n",
    "Y = X.reshape((3,4,2))\n",
    "Y\n"
   ]
  },
  {
   "cell_type": "code",
   "execution_count": 39,
   "id": "4a4aab8f",
   "metadata": {},
   "outputs": [
    {
     "name": "stdout",
     "output_type": "stream",
     "text": [
      "4\n"
     ]
    }
   ],
   "source": [
    "#29.Write a code to print a random number between 1 and 6 using random.randint function\n",
    "import random\n",
    "outcome = random.randint(1,6)\n",
    "print(outcome)\n"
   ]
  },
  {
   "cell_type": "code",
   "execution_count": 40,
   "id": "6ff2869d",
   "metadata": {},
   "outputs": [
    {
     "data": {
      "text/plain": [
       "[5, 2, 3, 4, 4, 4, 6, 1, 3, 1]"
      ]
     },
     "execution_count": 40,
     "metadata": {},
     "output_type": "execute_result"
    }
   ],
   "source": [
    "#30.Write a code to print 10 random numbers between 1 and 6 using random.randint function\n",
    "import random\n",
    "[ random.randint(1, 6) for _ in range(10) ]\n"
   ]
  },
  {
   "cell_type": "code",
   "execution_count": 42,
   "id": "c04659f7",
   "metadata": {},
   "outputs": [
    {
     "name": "stdout",
     "output_type": "stream",
     "text": [
      "4\n",
      "[4]\n",
      "[5 4 3 2 6 1 3 6 6 3]\n",
      "[[2 6 6 3]\n",
      " [2 4 4 5]\n",
      " [6 1 2 4]\n",
      " [6 4 5 5]\n",
      " [6 3 6 2]]\n"
     ]
    }
   ],
   "source": [
    "#31.Using random.randint()\n",
    "#Random number between 1 to 7\n",
    "#Random number between 1 to 7 with size=1\n",
    "#Random number between 1 to 7 with size =10\n",
    "#Random number between 1 to 7 with 5 rows and 4 columns\n",
    "import numpy as np\n",
    "print(np.random.randint(1, 7))\n",
    "print(np.random.randint(1, 7, size=1))\n",
    "print(np.random.randint(1, 7, size=10))\n",
    "print(np.random.randint(1, 7, size=(5, 4)))\n"
   ]
  },
  {
   "cell_type": "code",
   "execution_count": 43,
   "id": "2fe00960",
   "metadata": {},
   "outputs": [
    {
     "name": "stdout",
     "output_type": "stream",
     "text": [
      "Strasbourg\n"
     ]
    }
   ],
   "source": [
    "#32.Create a list using string values and by using random choice function print the random string value from the list created\n",
    "\n",
    "from random import choice\n",
    "possible_destinations = [\"Berlin\", \"Hamburg\", \"Munich\", \n",
    "                         \"Amsterdam\", \"London\", \"Paris\", \n",
    "                         \"Zurich\", \"Heidelberg\", \"Strasbourg\", \n",
    "                         \"Augsburg\", \"Milan\", \"Rome\"]\n",
    "\n",
    "print(choice(possible_destinations))\n"
   ]
  },
  {
   "cell_type": "code",
   "execution_count": 45,
   "id": "c03698ce",
   "metadata": {},
   "outputs": [
    {
     "name": "stdout",
     "output_type": "stream",
     "text": [
      "[[0.8642481  0.43311375 0.6454774  0.30882505]\n",
      " [0.03390875 0.28629298 0.61465593 0.12428455]\n",
      " [0.53226475 0.15940311 0.19950152 0.1377641 ]]\n"
     ]
    }
   ],
   "source": [
    "#33.Using random.random_sample function print the random float values with 3 rows and 4 columns\n",
    "import numpy as np\n",
    "x = np.random.random_sample((3, 4))\n",
    "print(x)\n",
    "\n"
   ]
  },
  {
   "cell_type": "code",
   "execution_count": 47,
   "id": "38966fab",
   "metadata": {},
   "outputs": [],
   "source": [
    "#Boolean Indexing"
   ]
  },
  {
   "cell_type": "code",
   "execution_count": 50,
   "id": "ed6ad20b",
   "metadata": {},
   "outputs": [
    {
     "name": "stdout",
     "output_type": "stream",
     "text": [
      "[[ True  True  True  True]\n",
      " [ True  True  True False]\n",
      " [ True  True False False]]\n"
     ]
    }
   ],
   "source": [
    "#34.Given B = np.array([[42,56,89,6],[99,88,42,12],[55,42,17,18]]) print False for the values which are  greater than 42 using Boolean indexing\n",
    "B = np.array([[42,56,89,65],\n",
    "              [99,88,42,12],\n",
    "              [55,42,17,18]])\n",
    "\n",
    "print(B>=42)\n",
    "\n"
   ]
  },
  {
   "cell_type": "code",
   "execution_count": 51,
   "id": "ca236d81",
   "metadata": {},
   "outputs": [],
   "source": [
    "#Fancy Indexing"
   ]
  },
  {
   "cell_type": "code",
   "execution_count": 52,
   "id": "9fa57294",
   "metadata": {},
   "outputs": [
    {
     "name": "stdout",
     "output_type": "stream",
     "text": [
      "[123 190 100]\n"
     ]
    }
   ],
   "source": [
    "#35.Write a program of one array to select the corresponding index of another array A contains are of C where the corresponding value of (A<=5) is true.C= np.array([123,188,190,99,77,88,100]) and A = np.array([4,7,2,8,6,9,5])\n",
    "\n",
    "C = np.array([123,188,190,99,77,88,100])\n",
    "A = np.array([4,7,2,8,6,9,5])\n",
    "R = C[A<=5]\n",
    "print(R)\n"
   ]
  },
  {
   "cell_type": "code",
   "execution_count": 54,
   "id": "7c744c99",
   "metadata": {},
   "outputs": [
    {
     "name": "stdout",
     "output_type": "stream",
     "text": [
      "Elements of A not divisible by 3:\n",
      "[  4  10  89  43  46 100]\n",
      "Elements of A divisible by 5:\n",
      "[ 10  45 100]\n",
      "Elements of A, which are divisible by 3 and 5:\n",
      "[45]\n",
      "------------------\n",
      "New values of A after setting the elements of A, \n",
      "which are divisible by 3, to 42:\n",
      "[ 42   4  42  10  42  89  42  43  46  42 100]\n"
     ]
    }
   ],
   "source": [
    "#36.Extract from the array np.array([3,4,6,10,24,89,45,43,46,99,100]) with Boolean masking all the number\n",
    "#which are not divisible by 3\n",
    "#which are divisible by 5\n",
    "#which are divisible by 3 and 5\n",
    "#which are divisible by 3 and set them to 42\n",
    "import numpy as np\n",
    "A = np.array([3,4,6,10,24,89,45,43,46,99,100])\n",
    "div3 = A[A%3!=0]\n",
    "print(\"Elements of A not divisible by 3:\")\n",
    "print(div3)\n",
    "div5 = A[A%5==0]\n",
    "print(\"Elements of A divisible by 5:\")\n",
    "print(div5)\n",
    "print(\"Elements of A, which are divisible by 3 and 5:\")\n",
    "print(A[(A%3==0) & (A%5==0)])\n",
    "print(\"------------------\")\n",
    "A[A%3==0] = 42\n",
    "print(\"\"\"New values of A after setting the elements of A, \n",
    "which are divisible by 3, to 42:\"\"\")\n",
    "print(A)\n"
   ]
  },
  {
   "cell_type": "code",
   "execution_count": 56,
   "id": "abcfaa1f",
   "metadata": {},
   "outputs": [
    {
     "data": {
      "text/plain": [
       "0    11\n",
       "1    28\n",
       "2    72\n",
       "3     3\n",
       "4     5\n",
       "5     8\n",
       "dtype: int64"
      ]
     },
     "execution_count": 56,
     "metadata": {},
     "output_type": "execute_result"
    }
   ],
   "source": [
    "#UNIT IV\n",
    "#DATA MANIPULATION WITH PANDAS\n",
    "#1. Write the program to  define a simple Series object in the following example by instantiating a Pandas Series object with a list ?\n",
    "import pandas as pd\n",
    "S = pd.Series([11, 28, 72, 3, 5, 8])\n",
    "S\n",
    "\n"
   ]
  },
  {
   "cell_type": "code",
   "execution_count": 57,
   "id": "1e082a0e",
   "metadata": {},
   "outputs": [
    {
     "name": "stdout",
     "output_type": "stream",
     "text": [
      "RangeIndex(start=0, stop=6, step=1)\n",
      "[11 28 72  3  5  8]\n"
     ]
    }
   ],
   "source": [
    "#2. What is the code that can directly access the index and the values of our Series S ?\n",
    "print(S.index)\n",
    "print(S.values)  \n"
   ]
  },
  {
   "cell_type": "code",
   "execution_count": 58,
   "id": "4304c011",
   "metadata": {},
   "outputs": [
    {
     "name": "stdout",
     "output_type": "stream",
     "text": [
      "apples      37\n",
      "oranges     46\n",
      "cherries    83\n",
      "pears       42\n",
      "dtype: int64\n",
      "sum of S:  115\n"
     ]
    }
   ],
   "source": [
    "#3.If two series are taken S and S2 then write the code for addition of these two series with printing the same index ?\n",
    "\n",
    "fruits = ['apples', 'oranges', 'cherries', 'pears']\n",
    "S = pd.Series([20, 33, 52, 10], index=fruits)\n",
    "S2 = pd.Series([17, 13, 31, 32], index=fruits)\n",
    "print(S + S2)\n",
    "print(\"sum of S: \", sum(S))\n"
   ]
  },
  {
   "cell_type": "code",
   "execution_count": 59,
   "id": "aa87b43f",
   "metadata": {},
   "outputs": [
    {
     "name": "stdout",
     "output_type": "stream",
     "text": [
      "cherries       83.0\n",
      "oranges        46.0\n",
      "peaches         NaN\n",
      "pears          42.0\n",
      "raspberries     NaN\n",
      "dtype: float64\n"
     ]
    }
   ],
   "source": [
    "#4.  What will be the program code for the above question if the indices do not have to be the same for the Series addition If an index doesn't occur in both Series, the value for this Series will be NaN ?\n",
    "fruits = ['peaches', 'oranges', 'cherries', 'pears']\n",
    "fruits2 = ['raspberries', 'oranges', 'cherries', 'pears']\n",
    "S = pd.Series([20, 33, 52, 10], index=fruits)\n",
    "S2 = pd.Series([17, 13, 31, 32], index=fruits2)\n",
    "print(S + S2)\n"
   ]
  },
  {
   "cell_type": "code",
   "execution_count": 64,
   "id": "2cebdfa0",
   "metadata": {},
   "outputs": [
    {
     "ename": "TypeError",
     "evalue": "DatetimeIndex.__new__() got an unexpected keyword argument 'Start'",
     "output_type": "error",
     "traceback": [
      "\u001b[1;31m---------------------------------------------------------------------------\u001b[0m",
      "\u001b[1;31mTypeError\u001b[0m                                 Traceback (most recent call last)",
      "Cell \u001b[1;32mIn[64], line 5\u001b[0m\n\u001b[0;32m      3\u001b[0m \u001b[38;5;28;01mimport\u001b[39;00m \u001b[38;5;21;01mpandas\u001b[39;00m \u001b[38;5;28;01mas\u001b[39;00m \u001b[38;5;21;01mpd\u001b[39;00m\n\u001b[0;32m      4\u001b[0m sr \u001b[38;5;241m=\u001b[39m pd\u001b[38;5;241m.\u001b[39mSeries([\u001b[38;5;124m'\u001b[39m\u001b[38;5;124mNew York\u001b[39m\u001b[38;5;124m'\u001b[39m, \u001b[38;5;124m'\u001b[39m\u001b[38;5;124mChicago\u001b[39m\u001b[38;5;124m'\u001b[39m, \u001b[38;5;124m'\u001b[39m\u001b[38;5;124mToronto\u001b[39m\u001b[38;5;124m'\u001b[39m, \u001b[38;5;124m'\u001b[39m\u001b[38;5;124mLisbon\u001b[39m\u001b[38;5;124m'\u001b[39m, \u001b[38;5;124m'\u001b[39m\u001b[38;5;124mRio\u001b[39m\u001b[38;5;124m'\u001b[39m, \u001b[38;5;124m'\u001b[39m\u001b[38;5;124mMoscow\u001b[39m\u001b[38;5;124m'\u001b[39m])\n\u001b[1;32m----> 5\u001b[0m didx \u001b[38;5;241m=\u001b[39m \u001b[43mpd\u001b[49m\u001b[38;5;241;43m.\u001b[39;49m\u001b[43mDatetimeIndex\u001b[49m\u001b[43m(\u001b[49m\u001b[43mStart\u001b[49m\u001b[43m \u001b[49m\u001b[38;5;241;43m=\u001b[39;49m\u001b[38;5;124;43m'\u001b[39;49m\u001b[38;5;124;43m2014-08-01 10:00\u001b[39;49m\u001b[38;5;124;43m'\u001b[39;49m\u001b[43m,\u001b[49m\u001b[43m \u001b[49m\u001b[43mfreq\u001b[49m\u001b[43m \u001b[49m\u001b[38;5;241;43m=\u001b[39;49m\u001b[38;5;124;43m'\u001b[39;49m\u001b[38;5;124;43mW\u001b[39;49m\u001b[38;5;124;43m'\u001b[39;49m\u001b[43m,\u001b[49m\u001b[43mperiods\u001b[49m\u001b[43m \u001b[49m\u001b[38;5;241;43m=\u001b[39;49m\u001b[43m \u001b[49m\u001b[38;5;241;43m6\u001b[39;49m\u001b[43m,\u001b[49m\u001b[43m \u001b[49m\u001b[43mtz\u001b[49m\u001b[43m \u001b[49m\u001b[38;5;241;43m=\u001b[39;49m\u001b[43m \u001b[49m\u001b[38;5;124;43m'\u001b[39;49m\u001b[38;5;124;43mEurope/Berlin\u001b[39;49m\u001b[38;5;124;43m'\u001b[39;49m\u001b[43m)\u001b[49m\n\u001b[0;32m      6\u001b[0m sr\u001b[38;5;241m.\u001b[39mindex \u001b[38;5;241m=\u001b[39m didx\n\u001b[0;32m      7\u001b[0m \u001b[38;5;28mprint\u001b[39m(sr)\n",
      "\u001b[1;31mTypeError\u001b[0m: DatetimeIndex.__new__() got an unexpected keyword argument 'Start'"
     ]
    }
   ],
   "source": [
    "#5.Write the code  function to extract some elements from the given series object based on the actual positions of the elements in the object ?\n",
    "\n",
    "import pandas as pd\n",
    "sr = pd.Series(['New York', 'Chicago', 'Toronto', 'Lisbon', 'Rio', 'Moscow'])\n",
    "didx = pd.DatetimeIndex(start ='2014-08-01 10:00', freq ='W',periods = 6, tz = 'Europe/Berlin')\n",
    "sr.index = didx\n",
    "print(sr)\n"
   ]
  },
  {
   "cell_type": "code",
   "execution_count": 65,
   "id": "4897a555",
   "metadata": {},
   "outputs": [
    {
     "ename": "IndentationError",
     "evalue": "unexpected indent (1833636419.py, line 2)",
     "output_type": "error",
     "traceback": [
      "\u001b[1;36m  Cell \u001b[1;32mIn[65], line 2\u001b[1;36m\u001b[0m\n\u001b[1;33m    print(S['apples'])\u001b[0m\n\u001b[1;37m    ^\u001b[0m\n\u001b[1;31mIndentationError\u001b[0m\u001b[1;31m:\u001b[0m unexpected indent\n"
     ]
    }
   ],
   "source": [
    "#6. Using indexing write the code to access single values of a Series ?\n",
    "   print(S['apples'])\n"
   ]
  },
  {
   "cell_type": "code",
   "execution_count": 66,
   "id": "5eeaee99",
   "metadata": {},
   "outputs": [
    {
     "name": "stdout",
     "output_type": "stream",
     "text": [
      "Object `column` not found.\n"
     ]
    },
    {
     "data": {
      "text/html": [
       "<div>\n",
       "<style scoped>\n",
       "    .dataframe tbody tr th:only-of-type {\n",
       "        vertical-align: middle;\n",
       "    }\n",
       "\n",
       "    .dataframe tbody tr th {\n",
       "        vertical-align: top;\n",
       "    }\n",
       "\n",
       "    .dataframe thead th {\n",
       "        text-align: right;\n",
       "    }\n",
       "</style>\n",
       "<table border=\"1\" class=\"dataframe\">\n",
       "  <thead>\n",
       "    <tr style=\"text-align: right;\">\n",
       "      <th></th>\n",
       "      <th>Name</th>\n",
       "      <th>Univ_Marks</th>\n",
       "      <th>Percentage</th>\n",
       "    </tr>\n",
       "  </thead>\n",
       "  <tbody>\n",
       "    <tr>\n",
       "      <th>0</th>\n",
       "      <td>Rohan</td>\n",
       "      <td>455</td>\n",
       "      <td>91.0</td>\n",
       "    </tr>\n",
       "    <tr>\n",
       "      <th>1</th>\n",
       "      <td>Elvish</td>\n",
       "      <td>250</td>\n",
       "      <td>50.0</td>\n",
       "    </tr>\n",
       "    <tr>\n",
       "      <th>2</th>\n",
       "      <td>Deepak</td>\n",
       "      <td>495</td>\n",
       "      <td>99.0</td>\n",
       "    </tr>\n",
       "    <tr>\n",
       "      <th>3</th>\n",
       "      <td>Sai</td>\n",
       "      <td>400</td>\n",
       "      <td>80.0</td>\n",
       "    </tr>\n",
       "    <tr>\n",
       "      <th>4</th>\n",
       "      <td>Radha</td>\n",
       "      <td>350</td>\n",
       "      <td>70.0</td>\n",
       "    </tr>\n",
       "    <tr>\n",
       "      <th>5</th>\n",
       "      <td>Vansh</td>\n",
       "      <td>450</td>\n",
       "      <td>90.0</td>\n",
       "    </tr>\n",
       "  </tbody>\n",
       "</table>\n",
       "</div>"
      ],
      "text/plain": [
       "     Name  Univ_Marks  Percentage\n",
       "0   Rohan         455        91.0\n",
       "1  Elvish         250        50.0\n",
       "2  Deepak         495        99.0\n",
       "3     Sai         400        80.0\n",
       "4   Radha         350        70.0\n",
       "5   Vansh         450        90.0"
      ]
     },
     "execution_count": 66,
     "metadata": {},
     "output_type": "execute_result"
    }
   ],
   "source": [
    "Q7. Write a code for Manipulating Pandas Data frame using Applying lambda function to a column?\n",
    "\n",
    "import pandas as pd\n",
    "values = [['Rohan', 455], ['Elvish', 250], ['Deepak', 495],\n",
    "          ['Sai', 400], ['Radha', 350], ['Vansh', 450]]\n",
    "  \n",
    "df = pd.DataFrame(values, columns=['Name', 'Univ_Marks'])\n",
    "df = df.assign(Percentage=lambda x: (x['Univ_Marks'] / 500 * 100))\n",
    "df"
   ]
  },
  {
   "cell_type": "code",
   "execution_count": 68,
   "id": "87b33009",
   "metadata": {},
   "outputs": [
    {
     "name": "stdout",
     "output_type": "stream",
     "text": [
      "London       8615246\n",
      "Berlin       3562166\n",
      "Madrid       3165235\n",
      "Rome         2874038\n",
      "Paris        2273305\n",
      "Vienna       1805681\n",
      "Bucharest    1803425\n",
      "Hamburg      1760433\n",
      "Budapest     1754000\n",
      "Warsaw       1740119\n",
      "Barcelona    1602386\n",
      "Munich       1493900\n",
      "Milan        1350680\n",
      "dtype: int64\n"
     ]
    }
   ],
   "source": [
    "#8.  How to create a Series object in pandas for the resulting Series to contain the dict's keys as the indices and the values as the values?\n",
    "cities = {\"London\":    8615246, \n",
    "          \"Berlin\":    3562166, \n",
    "          \"Madrid\":    3165235, \n",
    "          \"Rome\":      2874038, \n",
    "          \"Paris\":     2273305, \n",
    "          \"Vienna\":    1805681, \n",
    "          \"Bucharest\": 1803425, \n",
    "          \"Hamburg\":   1760433,\n",
    "          \"Budapest\":  1754000,\n",
    "          \"Warsaw\":    1740119,\n",
    "          \"Barcelona\": 1602386,\n",
    "          \"Munich\":    1493900,\n",
    "          \"Milan\":     1350680}\n",
    "city_series = pd.Series(cities)\n",
    "print(city_series)"
   ]
  },
  {
   "cell_type": "code",
   "execution_count": 70,
   "id": "ab22ddb1",
   "metadata": {},
   "outputs": [
    {
     "data": {
      "text/plain": [
       "2014    2409.14\n",
       "2015    2941.01\n",
       "2016    3496.83\n",
       "2017    3119.55\n",
       "2014    1203.45\n",
       "2015    3441.62\n",
       "2016    3007.83\n",
       "2017    3619.53\n",
       "2014    3412.12\n",
       "2015    3491.16\n",
       "2016    3457.19\n",
       "2017    1963.10\n",
       "dtype: float64"
      ]
     },
     "execution_count": 70,
     "metadata": {},
     "output_type": "execute_result"
    }
   ],
   "source": [
    "#9.Three series are defined using pandas write the code to concantenate and show the output display ?\n",
    "\n",
    "import pandas as pd\n",
    "years = range(2014, 2018)\n",
    "shop1 = pd.Series([2409.14, 2941.01, 3496.83, 3119.55], index=years)\n",
    "shop2 = pd.Series([1203.45, 3441.62, 3007.83, 3619.53], index=years)\n",
    "shop3 = pd.Series([3412.12, 3491.16, 3457.19, 1963.10], index=years)\n",
    "pd.concat([shop1,shop2,shop3])"
   ]
  },
  {
   "cell_type": "code",
   "execution_count": 71,
   "id": "045e8a09",
   "metadata": {},
   "outputs": [
    {
     "data": {
      "text/html": [
       "<div>\n",
       "<style scoped>\n",
       "    .dataframe tbody tr th:only-of-type {\n",
       "        vertical-align: middle;\n",
       "    }\n",
       "\n",
       "    .dataframe tbody tr th {\n",
       "        vertical-align: top;\n",
       "    }\n",
       "\n",
       "    .dataframe thead th {\n",
       "        text-align: right;\n",
       "    }\n",
       "</style>\n",
       "<table border=\"1\" class=\"dataframe\">\n",
       "  <thead>\n",
       "    <tr style=\"text-align: right;\">\n",
       "      <th></th>\n",
       "      <th>name</th>\n",
       "      <th>population</th>\n",
       "      <th>country</th>\n",
       "    </tr>\n",
       "  </thead>\n",
       "  <tbody>\n",
       "    <tr>\n",
       "      <th>0</th>\n",
       "      <td>London</td>\n",
       "      <td>8615246</td>\n",
       "      <td>England</td>\n",
       "    </tr>\n",
       "    <tr>\n",
       "      <th>1</th>\n",
       "      <td>Berlin</td>\n",
       "      <td>3562166</td>\n",
       "      <td>Germany</td>\n",
       "    </tr>\n",
       "    <tr>\n",
       "      <th>2</th>\n",
       "      <td>Madrid</td>\n",
       "      <td>3165235</td>\n",
       "      <td>Spain</td>\n",
       "    </tr>\n",
       "    <tr>\n",
       "      <th>3</th>\n",
       "      <td>Rome</td>\n",
       "      <td>2874038</td>\n",
       "      <td>Italy</td>\n",
       "    </tr>\n",
       "    <tr>\n",
       "      <th>4</th>\n",
       "      <td>Paris</td>\n",
       "      <td>2273305</td>\n",
       "      <td>France</td>\n",
       "    </tr>\n",
       "    <tr>\n",
       "      <th>5</th>\n",
       "      <td>Vienna</td>\n",
       "      <td>1805681</td>\n",
       "      <td>Austria</td>\n",
       "    </tr>\n",
       "    <tr>\n",
       "      <th>6</th>\n",
       "      <td>Bucharest</td>\n",
       "      <td>1803425</td>\n",
       "      <td>Romania</td>\n",
       "    </tr>\n",
       "    <tr>\n",
       "      <th>7</th>\n",
       "      <td>Hamburg</td>\n",
       "      <td>1760433</td>\n",
       "      <td>Germany</td>\n",
       "    </tr>\n",
       "    <tr>\n",
       "      <th>8</th>\n",
       "      <td>Budapest</td>\n",
       "      <td>1754000</td>\n",
       "      <td>Hungary</td>\n",
       "    </tr>\n",
       "    <tr>\n",
       "      <th>9</th>\n",
       "      <td>Warsaw</td>\n",
       "      <td>1740119</td>\n",
       "      <td>Poland</td>\n",
       "    </tr>\n",
       "    <tr>\n",
       "      <th>10</th>\n",
       "      <td>Barcelona</td>\n",
       "      <td>1602386</td>\n",
       "      <td>Spain</td>\n",
       "    </tr>\n",
       "    <tr>\n",
       "      <th>11</th>\n",
       "      <td>Munich</td>\n",
       "      <td>1493900</td>\n",
       "      <td>Germany</td>\n",
       "    </tr>\n",
       "    <tr>\n",
       "      <th>12</th>\n",
       "      <td>Milan</td>\n",
       "      <td>1350680</td>\n",
       "      <td>Italy</td>\n",
       "    </tr>\n",
       "  </tbody>\n",
       "</table>\n",
       "</div>"
      ],
      "text/plain": [
       "         name  population  country\n",
       "0      London     8615246  England\n",
       "1      Berlin     3562166  Germany\n",
       "2      Madrid     3165235    Spain\n",
       "3        Rome     2874038    Italy\n",
       "4       Paris     2273305   France\n",
       "5      Vienna     1805681  Austria\n",
       "6   Bucharest     1803425  Romania\n",
       "7     Hamburg     1760433  Germany\n",
       "8    Budapest     1754000  Hungary\n",
       "9      Warsaw     1740119   Poland\n",
       "10  Barcelona     1602386    Spain\n",
       "11     Munich     1493900  Germany\n",
       "12      Milan     1350680    Italy"
      ]
     },
     "execution_count": 71,
     "metadata": {},
     "output_type": "execute_result"
    }
   ],
   "source": [
    "#10. Give an example to derive a dataframe from a dictionary using pandas library function ?\n",
    "\n",
    "cities = {\"name\": [\"London\", \"Berlin\", \"Madrid\", \"Rome\", \n",
    "                   \"Paris\", \"Vienna\", \"Bucharest\", \"Hamburg\", \n",
    "                   \"Budapest\", \"Warsaw\", \"Barcelona\", \n",
    "                   \"Munich\", \"Milan\"],\n",
    "          \"population\": [8615246, 3562166, 3165235, 2874038,\n",
    "                         2273305, 1805681, 1803425, 1760433,\n",
    "                         1754000, 1740119, 1602386, 1493900,\n",
    "                         1350680],\n",
    "          \"country\": [\"England\", \"Germany\", \"Spain\", \"Italy\",\n",
    "                      \"France\", \"Austria\", \"Romania\", \n",
    "                      \"Germany\", \"Hungary\", \"Poland\", \"Spain\",\n",
    "                      \"Germany\", \"Italy\"]}\n",
    "city_frame = pd.DataFrame(cities)\n",
    "city_frame"
   ]
  },
  {
   "cell_type": "code",
   "execution_count": 72,
   "id": "75dc34b3",
   "metadata": {},
   "outputs": [
    {
     "data": {
      "text/html": [
       "<div>\n",
       "<style scoped>\n",
       "    .dataframe tbody tr th:only-of-type {\n",
       "        vertical-align: middle;\n",
       "    }\n",
       "\n",
       "    .dataframe tbody tr th {\n",
       "        vertical-align: top;\n",
       "    }\n",
       "\n",
       "    .dataframe thead th {\n",
       "        text-align: right;\n",
       "    }\n",
       "</style>\n",
       "<table border=\"1\" class=\"dataframe\">\n",
       "  <thead>\n",
       "    <tr style=\"text-align: right;\">\n",
       "      <th></th>\n",
       "      <th>Ojaswi</th>\n",
       "      <th>Rohith</th>\n",
       "      <th>Gnanesh</th>\n",
       "      <th>divya</th>\n",
       "      <th>ramya</th>\n",
       "    </tr>\n",
       "  </thead>\n",
       "  <tbody>\n",
       "    <tr>\n",
       "      <th>Age</th>\n",
       "      <td>15</td>\n",
       "      <td>9</td>\n",
       "      <td>15</td>\n",
       "      <td>21</td>\n",
       "      <td>15</td>\n",
       "    </tr>\n",
       "    <tr>\n",
       "      <th>subject</th>\n",
       "      <td>java</td>\n",
       "      <td>python</td>\n",
       "      <td>c/c++</td>\n",
       "      <td>html</td>\n",
       "      <td>c/c++</td>\n",
       "    </tr>\n",
       "    <tr>\n",
       "      <th>Address</th>\n",
       "      <td>Hyderabad</td>\n",
       "      <td>Hyderabad</td>\n",
       "      <td>Guntur</td>\n",
       "      <td>ponnur</td>\n",
       "      <td>delhi</td>\n",
       "    </tr>\n",
       "  </tbody>\n",
       "</table>\n",
       "</div>"
      ],
      "text/plain": [
       "            Ojaswi     Rohith Gnanesh   divya  ramya\n",
       "Age             15          9      15      21     15\n",
       "subject       java     python   c/c++    html  c/c++\n",
       "Address  Hyderabad  Hyderabad  Guntur  ponnur  delhi"
      ]
     },
     "execution_count": 72,
     "metadata": {},
     "output_type": "execute_result"
    }
   ],
   "source": [
    "#11. Give an example to derive a dataframe from a dictionary using pandas function?\n",
    "\n",
    "\n",
    "import pandas\n",
    "data = {'Ojaswi': {'Age': 15, 'subject': 'java', 'Address': 'Hyderabad'},\n",
    "        'Rohith':  {'Age': 9, 'subject': 'python', 'Address': 'Hyderabad'},\n",
    "        'Gnanesh':  {'Age': 15, 'subject': 'c/c++', 'Address': 'Guntur'},\n",
    "        'divya':  {'Age': 21, 'subject': 'html', 'Address': 'ponnur'},\n",
    "        'ramya':  {'Age': 15, 'subject': 'c/c++', 'Address': 'delhi'}}\n",
    "  \n",
    "data = pandas.DataFrame(data)\n",
    "data"
   ]
  },
  {
   "cell_type": "code",
   "execution_count": 74,
   "id": "6f280a73",
   "metadata": {},
   "outputs": [
    {
     "data": {
      "text/html": [
       "<div>\n",
       "<style scoped>\n",
       "    .dataframe tbody tr th:only-of-type {\n",
       "        vertical-align: middle;\n",
       "    }\n",
       "\n",
       "    .dataframe tbody tr th {\n",
       "        vertical-align: top;\n",
       "    }\n",
       "\n",
       "    .dataframe thead th {\n",
       "        text-align: right;\n",
       "    }\n",
       "</style>\n",
       "<table border=\"1\" class=\"dataframe\">\n",
       "  <thead>\n",
       "    <tr style=\"text-align: right;\">\n",
       "      <th></th>\n",
       "      <th>country</th>\n",
       "      <th>name</th>\n",
       "      <th>population</th>\n",
       "    </tr>\n",
       "  </thead>\n",
       "  <tbody>\n",
       "    <tr>\n",
       "      <th>0</th>\n",
       "      <td>England</td>\n",
       "      <td>London</td>\n",
       "      <td>8615246</td>\n",
       "    </tr>\n",
       "    <tr>\n",
       "      <th>2</th>\n",
       "      <td>Spain</td>\n",
       "      <td>Madrid</td>\n",
       "      <td>3165235</td>\n",
       "    </tr>\n",
       "    <tr>\n",
       "      <th>4</th>\n",
       "      <td>France</td>\n",
       "      <td>Paris</td>\n",
       "      <td>2273305</td>\n",
       "    </tr>\n",
       "    <tr>\n",
       "      <th>6</th>\n",
       "      <td>Romania</td>\n",
       "      <td>Bucharest</td>\n",
       "      <td>1803425</td>\n",
       "    </tr>\n",
       "    <tr>\n",
       "      <th>8</th>\n",
       "      <td>Hungary</td>\n",
       "      <td>Budapest</td>\n",
       "      <td>1754000</td>\n",
       "    </tr>\n",
       "    <tr>\n",
       "      <th>10</th>\n",
       "      <td>Spain</td>\n",
       "      <td>Barcelona</td>\n",
       "      <td>1602386</td>\n",
       "    </tr>\n",
       "    <tr>\n",
       "      <th>12</th>\n",
       "      <td>Italy</td>\n",
       "      <td>Milan</td>\n",
       "      <td>1350680</td>\n",
       "    </tr>\n",
       "    <tr>\n",
       "      <th>1</th>\n",
       "      <td>Germany</td>\n",
       "      <td>Berlin</td>\n",
       "      <td>3562166</td>\n",
       "    </tr>\n",
       "    <tr>\n",
       "      <th>3</th>\n",
       "      <td>Italy</td>\n",
       "      <td>Rome</td>\n",
       "      <td>2874038</td>\n",
       "    </tr>\n",
       "    <tr>\n",
       "      <th>5</th>\n",
       "      <td>Austria</td>\n",
       "      <td>Vienna</td>\n",
       "      <td>1805681</td>\n",
       "    </tr>\n",
       "    <tr>\n",
       "      <th>7</th>\n",
       "      <td>Germany</td>\n",
       "      <td>Hamburg</td>\n",
       "      <td>1760433</td>\n",
       "    </tr>\n",
       "    <tr>\n",
       "      <th>9</th>\n",
       "      <td>Poland</td>\n",
       "      <td>Warsaw</td>\n",
       "      <td>1740119</td>\n",
       "    </tr>\n",
       "    <tr>\n",
       "      <th>11</th>\n",
       "      <td>Germany</td>\n",
       "      <td>Munich</td>\n",
       "      <td>1493900</td>\n",
       "    </tr>\n",
       "  </tbody>\n",
       "</table>\n",
       "</div>"
      ],
      "text/plain": [
       "    country       name  population\n",
       "0   England     London     8615246\n",
       "2     Spain     Madrid     3165235\n",
       "4    France      Paris     2273305\n",
       "6   Romania  Bucharest     1803425\n",
       "8   Hungary   Budapest     1754000\n",
       "10    Spain  Barcelona     1602386\n",
       "12    Italy      Milan     1350680\n",
       "1   Germany     Berlin     3562166\n",
       "3     Italy       Rome     2874038\n",
       "5   Austria     Vienna     1805681\n",
       "7   Germany    Hamburg     1760433\n",
       "9    Poland     Warsaw     1740119\n",
       "11  Germany     Munich     1493900"
      ]
     },
     "execution_count": 74,
     "metadata": {},
     "output_type": "execute_result"
    }
   ],
   "source": [
    "#12. Give the program to change both the column order and the ordering of the index with the function reindex ?\n",
    "city_frame.reindex(index=[0, 2, 4, 6,  8, 10, 12, 1, 3, 5, 7, 9, 11], \n",
    "columns=['country', 'name', 'population'])"
   ]
  },
  {
   "cell_type": "code",
   "execution_count": 75,
   "id": "fb18c466",
   "metadata": {},
   "outputs": [
    {
     "data": {
      "text/html": [
       "<div>\n",
       "<style scoped>\n",
       "    .dataframe tbody tr th:only-of-type {\n",
       "        vertical-align: middle;\n",
       "    }\n",
       "\n",
       "    .dataframe tbody tr th {\n",
       "        vertical-align: top;\n",
       "    }\n",
       "\n",
       "    .dataframe thead th {\n",
       "        text-align: right;\n",
       "    }\n",
       "</style>\n",
       "<table border=\"1\" class=\"dataframe\">\n",
       "  <thead>\n",
       "    <tr style=\"text-align: right;\">\n",
       "      <th></th>\n",
       "      <th>Soyadı</th>\n",
       "      <th>Nüfus</th>\n",
       "      <th>Ülke</th>\n",
       "    </tr>\n",
       "  </thead>\n",
       "  <tbody>\n",
       "    <tr>\n",
       "      <th>0</th>\n",
       "      <td>London</td>\n",
       "      <td>8615246</td>\n",
       "      <td>England</td>\n",
       "    </tr>\n",
       "    <tr>\n",
       "      <th>1</th>\n",
       "      <td>Berlin</td>\n",
       "      <td>3562166</td>\n",
       "      <td>Germany</td>\n",
       "    </tr>\n",
       "    <tr>\n",
       "      <th>2</th>\n",
       "      <td>Madrid</td>\n",
       "      <td>3165235</td>\n",
       "      <td>Spain</td>\n",
       "    </tr>\n",
       "    <tr>\n",
       "      <th>3</th>\n",
       "      <td>Rome</td>\n",
       "      <td>2874038</td>\n",
       "      <td>Italy</td>\n",
       "    </tr>\n",
       "    <tr>\n",
       "      <th>4</th>\n",
       "      <td>Paris</td>\n",
       "      <td>2273305</td>\n",
       "      <td>France</td>\n",
       "    </tr>\n",
       "    <tr>\n",
       "      <th>5</th>\n",
       "      <td>Vienna</td>\n",
       "      <td>1805681</td>\n",
       "      <td>Austria</td>\n",
       "    </tr>\n",
       "    <tr>\n",
       "      <th>6</th>\n",
       "      <td>Bucharest</td>\n",
       "      <td>1803425</td>\n",
       "      <td>Romania</td>\n",
       "    </tr>\n",
       "    <tr>\n",
       "      <th>7</th>\n",
       "      <td>Hamburg</td>\n",
       "      <td>1760433</td>\n",
       "      <td>Germany</td>\n",
       "    </tr>\n",
       "    <tr>\n",
       "      <th>8</th>\n",
       "      <td>Budapest</td>\n",
       "      <td>1754000</td>\n",
       "      <td>Hungary</td>\n",
       "    </tr>\n",
       "    <tr>\n",
       "      <th>9</th>\n",
       "      <td>Warsaw</td>\n",
       "      <td>1740119</td>\n",
       "      <td>Poland</td>\n",
       "    </tr>\n",
       "    <tr>\n",
       "      <th>10</th>\n",
       "      <td>Barcelona</td>\n",
       "      <td>1602386</td>\n",
       "      <td>Spain</td>\n",
       "    </tr>\n",
       "    <tr>\n",
       "      <th>11</th>\n",
       "      <td>Munich</td>\n",
       "      <td>1493900</td>\n",
       "      <td>Germany</td>\n",
       "    </tr>\n",
       "    <tr>\n",
       "      <th>12</th>\n",
       "      <td>Milan</td>\n",
       "      <td>1350680</td>\n",
       "      <td>Italy</td>\n",
       "    </tr>\n",
       "  </tbody>\n",
       "</table>\n",
       "</div>"
      ],
      "text/plain": [
       "       Soyadı    Nüfus     Ülke\n",
       "0      London  8615246  England\n",
       "1      Berlin  3562166  Germany\n",
       "2      Madrid  3165235    Spain\n",
       "3        Rome  2874038    Italy\n",
       "4       Paris  2273305   France\n",
       "5      Vienna  1805681  Austria\n",
       "6   Bucharest  1803425  Romania\n",
       "7     Hamburg  1760433  Germany\n",
       "8    Budapest  1754000  Hungary\n",
       "9      Warsaw  1740119   Poland\n",
       "10  Barcelona  1602386    Spain\n",
       "11     Munich  1493900  Germany\n",
       "12      Milan  1350680    Italy"
      ]
     },
     "execution_count": 75,
     "metadata": {},
     "output_type": "execute_result"
    }
   ],
   "source": [
    "#13. Write the code to rename a dataframe using pandas library function?\n",
    "city_frame.rename(columns={\"name\":\"Soyadı\", \n",
    "                           \"country\":\"Ülke\", \n",
    "                           \"population\":\"Nüfus\"},\n",
    "                 inplace=True)\n",
    "city_frame"
   ]
  },
  {
   "cell_type": "code",
   "execution_count": 76,
   "id": "173ba3e4",
   "metadata": {},
   "outputs": [
    {
     "name": "stdout",
     "output_type": "stream",
     "text": [
      "            name  population\n",
      "Germany   Berlin     3562166\n",
      "Germany  Hamburg     1760433\n",
      "Germany   Munich     1493900\n"
     ]
    }
   ],
   "source": [
    "#14.  Write the program for accessing row via indexing value ie select the  German cities in the following example by using 'loc' ?\n",
    "city_frame = pd.DataFrame(cities, \n",
    "                          columns=(\"name\", \"population\"), \n",
    "                          index=cities[\"country\"])\n",
    "print(city_frame.loc[\"Germany\"])"
   ]
  },
  {
   "cell_type": "code",
   "execution_count": 77,
   "id": "c457cd0a",
   "metadata": {},
   "outputs": [
    {
     "data": {
      "text/html": [
       "<div>\n",
       "<style scoped>\n",
       "    .dataframe tbody tr th:only-of-type {\n",
       "        vertical-align: middle;\n",
       "    }\n",
       "\n",
       "    .dataframe tbody tr th {\n",
       "        vertical-align: top;\n",
       "    }\n",
       "\n",
       "    .dataframe thead th {\n",
       "        text-align: right;\n",
       "    }\n",
       "</style>\n",
       "<table border=\"1\" class=\"dataframe\">\n",
       "  <thead>\n",
       "    <tr style=\"text-align: right;\">\n",
       "      <th></th>\n",
       "      <th>A</th>\n",
       "      <th>B</th>\n",
       "      <th>C</th>\n",
       "      <th>D</th>\n",
       "    </tr>\n",
       "  </thead>\n",
       "  <tbody>\n",
       "    <tr>\n",
       "      <th>0</th>\n",
       "      <td>kırmızı</td>\n",
       "      <td>bir</td>\n",
       "      <td>345</td>\n",
       "      <td>1</td>\n",
       "    </tr>\n",
       "    <tr>\n",
       "      <th>1</th>\n",
       "      <td>yeşil</td>\n",
       "      <td>iki</td>\n",
       "      <td>325</td>\n",
       "      <td>2</td>\n",
       "    </tr>\n",
       "    <tr>\n",
       "      <th>2</th>\n",
       "      <td>mavi</td>\n",
       "      <td>bir</td>\n",
       "      <td>898</td>\n",
       "      <td>3</td>\n",
       "    </tr>\n",
       "    <tr>\n",
       "      <th>3</th>\n",
       "      <td>kırmızı</td>\n",
       "      <td>iki</td>\n",
       "      <td>989</td>\n",
       "      <td>4</td>\n",
       "    </tr>\n",
       "    <tr>\n",
       "      <th>4</th>\n",
       "      <td>yeşil</td>\n",
       "      <td>bir</td>\n",
       "      <td>23</td>\n",
       "      <td>5</td>\n",
       "    </tr>\n",
       "    <tr>\n",
       "      <th>5</th>\n",
       "      <td>mavi</td>\n",
       "      <td>iki</td>\n",
       "      <td>143</td>\n",
       "      <td>6</td>\n",
       "    </tr>\n",
       "  </tbody>\n",
       "</table>\n",
       "</div>"
      ],
      "text/plain": [
       "         A    B    C  D\n",
       "0  kırmızı  bir  345  1\n",
       "1    yeşil  iki  325  2\n",
       "2     mavi  bir  898  3\n",
       "3  kırmızı  iki  989  4\n",
       "4    yeşil  bir   23  5\n",
       "5     mavi  iki  143  6"
      ]
     },
     "execution_count": 77,
     "metadata": {},
     "output_type": "execute_result"
    }
   ],
   "source": [
    "#15 . Write a program to perform a pivot table format by reshaping a dataframe in pandas library function ?\n",
    "import pandas as pd\n",
    "d = {'A': ['kırmızı', 'yeşil', 'mavi', 'kırmızı', 'yeşil', 'mavi'],\n",
    "     'B': ['bir', 'iki', 'bir',  'iki',  'bir', 'iki'],\n",
    "     'C': [345, 325, 898, 989, 23, 143],\n",
    "     'D': [1, 2, 3, 4, 5, 6]}\n",
    "df = pd.DataFrame(d)\n",
    "df"
   ]
  },
  {
   "cell_type": "code",
   "execution_count": 78,
   "id": "6d7f2989",
   "metadata": {},
   "outputs": [
    {
     "name": "stdout",
     "output_type": "stream",
     "text": [
      "apples       2\n",
      "cherries    11\n",
      "cherries     4\n",
      "apples       9\n",
      "pears        3\n",
      "cherries    14\n",
      "bananas     14\n",
      "bananas      5\n",
      "apples       6\n",
      "cherries    18\n",
      "dtype: int32\n"
     ]
    }
   ],
   "source": [
    "#16.  Write a program where a Series object with an index of size nvalues. The index will not be unique, because the strings for the index are taken from the list fruits, which has less elements than nvalues ?\n",
    "import pandas as pd\n",
    "import numpy as np\n",
    "import random\n",
    "nvalues = 30\n",
    "values = np.random.randint(1, 20, (nvalues,))\n",
    "fruits = [\"bananas\", \"oranges\", \"apples\", \"clementines\", \"cherries\", \"pears\"]\n",
    "fruits_index = np.random.choice(fruits, (nvalues,))\n",
    "s = pd.Series(values, index=fruits_index)\n",
    "print(s[:10])"
   ]
  },
  {
   "cell_type": "code",
   "execution_count": 79,
   "id": "42b328df",
   "metadata": {},
   "outputs": [
    {
     "name": "stdout",
     "output_type": "stream",
     "text": [
      "===== apples =====\n",
      "apples     2\n",
      "apples     9\n",
      "apples     6\n",
      "apples    18\n",
      "dtype: int32\n",
      "===== bananas =====\n",
      "bananas    14\n",
      "bananas     5\n",
      "bananas     9\n",
      "bananas    11\n",
      "bananas    10\n",
      "bananas    15\n",
      "bananas     6\n",
      "dtype: int32\n",
      "===== cherries =====\n",
      "cherries    11\n",
      "cherries     4\n",
      "cherries    14\n",
      "cherries    18\n",
      "cherries    18\n",
      "cherries    14\n",
      "cherries     9\n",
      "cherries     8\n",
      "dtype: int32\n",
      "===== clementines =====\n",
      "clementines    11\n",
      "clementines     8\n",
      "clementines    17\n",
      "dtype: int32\n",
      "===== oranges =====\n",
      "oranges    15\n",
      "oranges    16\n",
      "oranges    16\n",
      "dtype: int32\n",
      "===== pears =====\n",
      "pears     3\n",
      "pears     5\n",
      "pears    10\n",
      "pears    11\n",
      "pears    16\n",
      "dtype: int32\n"
     ]
    }
   ],
   "source": [
    "#17. Write a program to get the given series in sorted label form using groupby function so that the solution is gropby iterable form ?\n",
    "grouped = s.groupby(s.index)\n",
    "for fruit, s_obj in grouped:\n",
    "    print(f\"===== {fruit} =====\")\n",
    "    print(s_obj)"
   ]
  },
  {
   "cell_type": "code",
   "execution_count": 80,
   "id": "64f4b63a",
   "metadata": {},
   "outputs": [
    {
     "data": {
      "text/html": [
       "<div>\n",
       "<style scoped>\n",
       "    .dataframe tbody tr th:only-of-type {\n",
       "        vertical-align: middle;\n",
       "    }\n",
       "\n",
       "    .dataframe tbody tr th {\n",
       "        vertical-align: top;\n",
       "    }\n",
       "\n",
       "    .dataframe thead th {\n",
       "        text-align: right;\n",
       "    }\n",
       "</style>\n",
       "<table border=\"1\" class=\"dataframe\">\n",
       "  <thead>\n",
       "    <tr style=\"text-align: right;\">\n",
       "      <th></th>\n",
       "      <th>Name</th>\n",
       "      <th>Coffee</th>\n",
       "      <th>Tea</th>\n",
       "    </tr>\n",
       "  </thead>\n",
       "  <tbody>\n",
       "    <tr>\n",
       "      <th>0</th>\n",
       "      <td>Robert</td>\n",
       "      <td>3</td>\n",
       "      <td>0</td>\n",
       "    </tr>\n",
       "    <tr>\n",
       "      <th>1</th>\n",
       "      <td>Melinda</td>\n",
       "      <td>0</td>\n",
       "      <td>4</td>\n",
       "    </tr>\n",
       "    <tr>\n",
       "      <th>2</th>\n",
       "      <td>Brenda</td>\n",
       "      <td>2</td>\n",
       "      <td>2</td>\n",
       "    </tr>\n",
       "    <tr>\n",
       "      <th>3</th>\n",
       "      <td>Samantha</td>\n",
       "      <td>2</td>\n",
       "      <td>0</td>\n",
       "    </tr>\n",
       "    <tr>\n",
       "      <th>4</th>\n",
       "      <td>Melinda</td>\n",
       "      <td>0</td>\n",
       "      <td>3</td>\n",
       "    </tr>\n",
       "    <tr>\n",
       "      <th>5</th>\n",
       "      <td>Robert</td>\n",
       "      <td>2</td>\n",
       "      <td>0</td>\n",
       "    </tr>\n",
       "    <tr>\n",
       "      <th>6</th>\n",
       "      <td>Melinda</td>\n",
       "      <td>0</td>\n",
       "      <td>3</td>\n",
       "    </tr>\n",
       "    <tr>\n",
       "      <th>7</th>\n",
       "      <td>Brenda</td>\n",
       "      <td>1</td>\n",
       "      <td>2</td>\n",
       "    </tr>\n",
       "    <tr>\n",
       "      <th>8</th>\n",
       "      <td>Samantha</td>\n",
       "      <td>3</td>\n",
       "      <td>0</td>\n",
       "    </tr>\n",
       "  </tbody>\n",
       "</table>\n",
       "</div>"
      ],
      "text/plain": [
       "       Name  Coffee  Tea\n",
       "0    Robert       3    0\n",
       "1   Melinda       0    4\n",
       "2    Brenda       2    2\n",
       "3  Samantha       2    0\n",
       "4   Melinda       0    3\n",
       "5    Robert       2    0\n",
       "6   Melinda       0    3\n",
       "7    Brenda       1    2\n",
       "8  Samantha       3    0"
      ]
     },
     "execution_count": 80,
     "metadata": {},
     "output_type": "execute_result"
    }
   ],
   "source": [
    "#18.  The DataFrame has two columns one containing names Name and the other one coffee contains integers which are the number of cups of coffee the person drank.Write the code to sort using pandas groupby?\n",
    "import pandas as pd\n",
    "beverages = pd.DataFrame({'Name': ['Robert', 'Melinda', 'Brenda',\n",
    "                                   'Samantha', 'Melinda', 'Robert',\n",
    "                                   'Melinda', 'Brenda', 'Samantha'],\n",
    "                          'Coffee': [3, 0, 2, 2, 0, 2, 0, 1, 3],\n",
    "                          'Tea':    [0, 4, 2, 0, 3, 0, 3, 2, 0]})    \n",
    "beverages"
   ]
  },
  {
   "cell_type": "code",
   "execution_count": 81,
   "id": "cec9c9db",
   "metadata": {},
   "outputs": [
    {
     "data": {
      "text/html": [
       "<div>\n",
       "<style scoped>\n",
       "    .dataframe tbody tr th:only-of-type {\n",
       "        vertical-align: middle;\n",
       "    }\n",
       "\n",
       "    .dataframe tbody tr th {\n",
       "        vertical-align: top;\n",
       "    }\n",
       "\n",
       "    .dataframe thead th {\n",
       "        text-align: right;\n",
       "    }\n",
       "</style>\n",
       "<table border=\"1\" class=\"dataframe\">\n",
       "  <thead>\n",
       "    <tr style=\"text-align: right;\">\n",
       "      <th></th>\n",
       "      <th>Coffee</th>\n",
       "      <th>Tea</th>\n",
       "    </tr>\n",
       "    <tr>\n",
       "      <th>Name</th>\n",
       "      <th></th>\n",
       "      <th></th>\n",
       "    </tr>\n",
       "  </thead>\n",
       "  <tbody>\n",
       "    <tr>\n",
       "      <th>Brenda</th>\n",
       "      <td>1.5</td>\n",
       "      <td>2.000000</td>\n",
       "    </tr>\n",
       "    <tr>\n",
       "      <th>Melinda</th>\n",
       "      <td>0.0</td>\n",
       "      <td>3.333333</td>\n",
       "    </tr>\n",
       "    <tr>\n",
       "      <th>Robert</th>\n",
       "      <td>2.5</td>\n",
       "      <td>0.000000</td>\n",
       "    </tr>\n",
       "    <tr>\n",
       "      <th>Samantha</th>\n",
       "      <td>2.5</td>\n",
       "      <td>0.000000</td>\n",
       "    </tr>\n",
       "  </tbody>\n",
       "</table>\n",
       "</div>"
      ],
      "text/plain": [
       "          Coffee       Tea\n",
       "Name                      \n",
       "Brenda       1.5  2.000000\n",
       "Melinda      0.0  3.333333\n",
       "Robert       2.5  0.000000\n",
       "Samantha     2.5  0.000000"
      ]
     },
     "execution_count": 81,
     "metadata": {},
     "output_type": "execute_result"
    }
   ],
   "source": [
    "#19. Write the program to calculate the average number of coffee and tea cups the persons had using gropby function in pandas?\n",
    "beverages.groupby(['Name']).mean()"
   ]
  },
  {
   "cell_type": "code",
   "execution_count": 85,
   "id": "52b46bee",
   "metadata": {},
   "outputs": [
    {
     "ename": "NameError",
     "evalue": "name 'create_bins' is not defined",
     "output_type": "error",
     "traceback": [
      "\u001b[1;31m---------------------------------------------------------------------------\u001b[0m",
      "\u001b[1;31mNameError\u001b[0m                                 Traceback (most recent call last)",
      "Cell \u001b[1;32mIn[85], line 9\u001b[0m\n\u001b[0;32m      6\u001b[0m             \u001b[38;5;28;01mreturn\u001b[39;00m \u001b[38;5;241m-\u001b[39m\u001b[38;5;241m1\u001b[39m\n\u001b[0;32m      8\u001b[0m \u001b[38;5;28;01mfrom\u001b[39;00m \u001b[38;5;21;01mcollections\u001b[39;00m \u001b[38;5;28;01mimport\u001b[39;00m Counter\n\u001b[1;32m----> 9\u001b[0m bins \u001b[38;5;241m=\u001b[39m \u001b[43mcreate_bins\u001b[49m(lower_bound\u001b[38;5;241m=\u001b[39m\u001b[38;5;241m50\u001b[39m,\n\u001b[0;32m     10\u001b[0m                    width\u001b[38;5;241m=\u001b[39m\u001b[38;5;241m4\u001b[39m,\n\u001b[0;32m     11\u001b[0m                    quantity\u001b[38;5;241m=\u001b[39m\u001b[38;5;241m10\u001b[39m)\n\u001b[0;32m     12\u001b[0m \u001b[38;5;28mprint\u001b[39m(bins)\n\u001b[0;32m     13\u001b[0m weights_of_persons \u001b[38;5;241m=\u001b[39m [\u001b[38;5;241m73.4\u001b[39m, \u001b[38;5;241m69.3\u001b[39m, \u001b[38;5;241m64.9\u001b[39m, \u001b[38;5;241m75.6\u001b[39m, \u001b[38;5;241m74.9\u001b[39m, \u001b[38;5;241m80.3\u001b[39m, \n\u001b[0;32m     14\u001b[0m                       \u001b[38;5;241m78.6\u001b[39m, \u001b[38;5;241m84.1\u001b[39m, \u001b[38;5;241m88.9\u001b[39m, \u001b[38;5;241m90.3\u001b[39m, \u001b[38;5;241m83.4\u001b[39m, \u001b[38;5;241m69.3\u001b[39m, \n\u001b[0;32m     15\u001b[0m                       \u001b[38;5;241m52.4\u001b[39m, \u001b[38;5;241m58.3\u001b[39m, \u001b[38;5;241m67.4\u001b[39m, \u001b[38;5;241m74.0\u001b[39m, \u001b[38;5;241m89.3\u001b[39m, \u001b[38;5;241m63.4\u001b[39m]\n",
      "\u001b[1;31mNameError\u001b[0m: name 'create_bins' is not defined"
     ]
    }
   ],
   "source": [
    "#20.  Write a program with function ‘find bin’ with two list or tuple of bins of two elements to find the index of the interval where thw vale’value’ is contained?\n",
    "def find_bin(value, bins):\n",
    "     for i in range(0, len(bins)):\n",
    "        if bins[i][0] <= value < bins[i][1]:\n",
    "            return i\n",
    "              return -1\n",
    "\n",
    "from collections import Counter\n",
    "bins = create_bins(lower_bound=50,\n",
    "                   width=4,\n",
    "                   quantity=10)\n",
    "print(bins)\n",
    "weights_of_persons = [73.4, 69.3, 64.9, 75.6, 74.9, 80.3, \n",
    "                      78.6, 84.1, 88.9, 90.3, 83.4, 69.3, \n",
    "                      52.4, 58.3, 67.4, 74.0, 89.3, 63.4]\n",
    "binned_weights = []\n",
    "for value in weights_of_persons:\n",
    "    bin_index = find_bin(value, bins)\n",
    "    print(value, bin_index, bins[bin_index])\n",
    "    binned_weights.append(bin_index)\n",
    "    frequencies = Counter(binned_weights)\n",
    "print(frequencies)"
   ]
  },
  {
   "cell_type": "code",
   "execution_count": 86,
   "id": "8343536e",
   "metadata": {},
   "outputs": [
    {
     "name": "stdout",
     "output_type": "stream",
     "text": [
      "[['Vienna', 'Vienna', 'Vienna', 'Hamburg', 'Hamburg', 'Hamburg', 'Berlin', 'Berlin', 'Berlin', 'Zürich', 'Zürich', 'Zürich'], ['country', 'area', 'population', 'country', 'area', 'population', 'country', 'area', 'population', 'country', 'area', 'population']]\n"
     ]
    }
   ],
   "source": [
    "#21.  Write the code for multilevel indexing using Pandas data structures. It's an efficient way to store and manipulate arbitrarily high dimension data in 1-dimensional (Series) and 2-dimensional tabular (DataFrame) structures?\n",
    "\n",
    "import pandas as pd\n",
    "\n",
    "cities = [\"Vienna\", \"Vienna\", \"Vienna\",\n",
    "          \"Hamburg\", \"Hamburg\", \"Hamburg\",\n",
    "          \"Berlin\", \"Berlin\", \"Berlin\",\n",
    "          \"Zürich\", \"Zürich\", \"Zürich\"]\n",
    "index = [cities, [\"country\", \"area\", \"population\",\n",
    "                  \"country\", \"area\", \"population\",\n",
    "                  \"country\", \"area\", \"population\",\n",
    "                  \"country\", \"area\", \"population\"]]\n",
    "print(index)"
   ]
  },
  {
   "cell_type": "code",
   "execution_count": 87,
   "id": "b32b364a",
   "metadata": {},
   "outputs": [
    {
     "name": "stdout",
     "output_type": "stream",
     "text": [
      "city_series with sorted index:\n",
      "Barcelona    1602386\n",
      "Berlin       3562166\n",
      "Bucharest    1803425\n",
      "Budapest     1754000\n",
      "Hamburg      1760433\n",
      "London       8615246\n",
      "Madrid       3165235\n",
      "Milan        1350680\n",
      "Munich       1493900\n",
      "Paris        2273305\n",
      "Rome         2874038\n",
      "Vienna       1805681\n",
      "Warsaw       1740119\n",
      "dtype: int64\n",
      "\n",
      "\n",
      "Slicing the city_series:\n"
     ]
    },
    {
     "data": {
      "text/plain": [
       "Berlin       3562166\n",
       "Bucharest    1803425\n",
       "Budapest     1754000\n",
       "Hamburg      1760433\n",
       "London       8615246\n",
       "Madrid       3165235\n",
       "Milan        1350680\n",
       "Munich       1493900\n",
       "Paris        2273305\n",
       "Rome         2874038\n",
       "Vienna       1805681\n",
       "dtype: int64"
      ]
     },
     "execution_count": 87,
     "metadata": {},
     "output_type": "execute_result"
    }
   ],
   "source": [
    "#22. Write the program to sort the index using slicing operation for the given series in pandas function ?\n",
    "city_series = city_series.sort_index()\n",
    "print(\"city_series with sorted index:\")\n",
    "print(city_series)\n",
    "print(\"\\n\\nSlicing the city_series:\")\n",
    "city_series[\"Berlin\":\"Vienna\"]"
   ]
  },
  {
   "cell_type": "code",
   "execution_count": 88,
   "id": "d3c9b05f",
   "metadata": {},
   "outputs": [
    {
     "ename": "AssertionError",
     "evalue": "",
     "output_type": "error",
     "traceback": [
      "\u001b[1;31m---------------------------------------------------------------------------\u001b[0m",
      "\u001b[1;31mAssertionError\u001b[0m                            Traceback (most recent call last)",
      "Cell \u001b[1;32mIn[88], line 2\u001b[0m\n\u001b[0;32m      1\u001b[0m \u001b[38;5;66;03m#23.Write a program to perform swapping multidex levels using pandas library function ?\u001b[39;00m\n\u001b[1;32m----> 2\u001b[0m city_series \u001b[38;5;241m=\u001b[39m \u001b[43mcity_series\u001b[49m\u001b[38;5;241;43m.\u001b[39;49m\u001b[43mswaplevel\u001b[49m\u001b[43m(\u001b[49m\u001b[43m)\u001b[49m\n\u001b[0;32m      3\u001b[0m city_series\u001b[38;5;241m.\u001b[39msort_index(inplace\u001b[38;5;241m=\u001b[39m\u001b[38;5;28;01mTrue\u001b[39;00m)\n\u001b[0;32m      4\u001b[0m city_series\n",
      "File \u001b[1;32m~\\anaconda3\\lib\\site-packages\\pandas\\core\\series.py:4312\u001b[0m, in \u001b[0;36mSeries.swaplevel\u001b[1;34m(self, i, j, copy)\u001b[0m\n\u001b[0;32m   4233\u001b[0m \u001b[38;5;129m@doc\u001b[39m(\n\u001b[0;32m   4234\u001b[0m     klass\u001b[38;5;241m=\u001b[39m_shared_doc_kwargs[\u001b[38;5;124m\"\u001b[39m\u001b[38;5;124mklass\u001b[39m\u001b[38;5;124m\"\u001b[39m],\n\u001b[0;32m   4235\u001b[0m     extra_params\u001b[38;5;241m=\u001b[39mdedent(\n\u001b[1;32m   (...)\u001b[0m\n\u001b[0;32m   4292\u001b[0m )\n\u001b[0;32m   4293\u001b[0m \u001b[38;5;28;01mdef\u001b[39;00m \u001b[38;5;21mswaplevel\u001b[39m(\u001b[38;5;28mself\u001b[39m, i: Level \u001b[38;5;241m=\u001b[39m \u001b[38;5;241m-\u001b[39m\u001b[38;5;241m2\u001b[39m, j: Level \u001b[38;5;241m=\u001b[39m \u001b[38;5;241m-\u001b[39m\u001b[38;5;241m1\u001b[39m, copy: \u001b[38;5;28mbool\u001b[39m \u001b[38;5;241m=\u001b[39m \u001b[38;5;28;01mTrue\u001b[39;00m) \u001b[38;5;241m-\u001b[39m\u001b[38;5;241m>\u001b[39m Series:\n\u001b[0;32m   4294\u001b[0m     \u001b[38;5;124;03m\"\"\"\u001b[39;00m\n\u001b[0;32m   4295\u001b[0m \u001b[38;5;124;03m    Swap levels i and j in a :class:`MultiIndex`.\u001b[39;00m\n\u001b[0;32m   4296\u001b[0m \n\u001b[1;32m   (...)\u001b[0m\n\u001b[0;32m   4310\u001b[0m \u001b[38;5;124;03m    {examples}\u001b[39;00m\n\u001b[0;32m   4311\u001b[0m \u001b[38;5;124;03m    \"\"\"\u001b[39;00m\n\u001b[1;32m-> 4312\u001b[0m     \u001b[38;5;28;01massert\u001b[39;00m \u001b[38;5;28misinstance\u001b[39m(\u001b[38;5;28mself\u001b[39m\u001b[38;5;241m.\u001b[39mindex, MultiIndex)\n\u001b[0;32m   4313\u001b[0m     new_index \u001b[38;5;241m=\u001b[39m \u001b[38;5;28mself\u001b[39m\u001b[38;5;241m.\u001b[39mindex\u001b[38;5;241m.\u001b[39mswaplevel(i, j)\n\u001b[0;32m   4314\u001b[0m     \u001b[38;5;28;01mreturn\u001b[39;00m \u001b[38;5;28mself\u001b[39m\u001b[38;5;241m.\u001b[39m_constructor(\u001b[38;5;28mself\u001b[39m\u001b[38;5;241m.\u001b[39m_values, index\u001b[38;5;241m=\u001b[39mnew_index, copy\u001b[38;5;241m=\u001b[39mcopy)\u001b[38;5;241m.\u001b[39m__finalize__(\n\u001b[0;32m   4315\u001b[0m         \u001b[38;5;28mself\u001b[39m, method\u001b[38;5;241m=\u001b[39m\u001b[38;5;124m\"\u001b[39m\u001b[38;5;124mswaplevel\u001b[39m\u001b[38;5;124m\"\u001b[39m\n\u001b[0;32m   4316\u001b[0m     )\n",
      "\u001b[1;31mAssertionError\u001b[0m: "
     ]
    }
   ],
   "source": [
    "#23.Write a program to perform swapping multidex levels using pandas library function ?\n",
    "city_series = city_series.swaplevel()\n",
    "city_series.sort_index(inplace=True)\n",
    "city_series"
   ]
  },
  {
   "cell_type": "code",
   "execution_count": 89,
   "id": "ae9eb3ca",
   "metadata": {},
   "outputs": [
    {
     "data": {
      "text/plain": [
       "<Axes: >"
      ]
     },
     "execution_count": 89,
     "metadata": {},
     "output_type": "execute_result"
    },
    {
     "data": {
      "image/png": "[encoded data removed]",
      "text/plain": [
       "<Figure size 640x480 with 1 Axes>"
      ]
     },
     "metadata": {},
     "output_type": "display_data"
    }
   ],
   "source": [
    "#24 . If given a tuple data =[100, 120, 140, 180, 200, 210, 214] ,using pandas   series  function plot a line plot for the data ?\n",
    "import pandas as pd\n",
    "data = [100, 120, 140, 180, 200, 210, 214]\n",
    "s = pd.Series(data, index=range(len(data)))\n",
    "s.plot()"
   ]
  },
  {
   "cell_type": "code",
   "execution_count": 90,
   "id": "56627455",
   "metadata": {},
   "outputs": [
    {
     "name": "stdout",
     "output_type": "stream",
     "text": [
      "           population     area\n",
      "London        8615246  1572.00\n",
      "Berlin        3562166   891.85\n",
      "Madrid        3165235   605.77\n",
      "Rome          2874038  1285.00\n",
      "Paris         2273305   105.40\n",
      "Vienna        1805681   414.60\n",
      "Bucharest     1803425   228.00\n",
      "Hamburg       1760433   755.00\n",
      "Budapest      1754000   525.20\n",
      "Warsaw        1740119   517.00\n",
      "Barcelona     1602386   101.90\n",
      "Munich        1493900   310.40\n",
      "Milan         1350680   181.80\n"
     ]
    }
   ],
   "source": [
    "#25.  For the  defined  dcitionary with the population and area figures. This dictionary can be used to create the DataFrame, which we want to use for plotting a line plot ?\n",
    "import pandas as pd\n",
    "cities = {\"name\": [\"London\", \"Berlin\", \"Madrid\", \"Rome\", \n",
    "                   \"Paris\", \"Vienna\", \"Bucharest\", \"Hamburg\", \n",
    "                   \"Budapest\", \"Warsaw\", \"Barcelona\", \n",
    "                   \"Munich\", \"Milan\"],\n",
    "          \"population\": [8615246, 3562166, 3165235, 2874038,\n",
    "                         2273305, 1805681, 1803425, 1760433,\n",
    "                         1754000, 1740119, 1602386, 1493900,\n",
    "                         1350680],\n",
    "          \"area\" : [1572, 891.85, 605.77, 1285, \n",
    "                    105.4, 414.6, 228, 755, \n",
    "                    525.2, 517, 101.9, 310.4, \n",
    "                    181.8]\n",
    "}\n",
    "city_frame = pd.DataFrame(cities,\n",
    "                          columns=[\"population\", \"area\"],\n",
    "                          index=cities[\"name\"])\n",
    "print(city_frame)"
   ]
  },
  {
   "cell_type": "code",
   "execution_count": 91,
   "id": "ed4fbb77",
   "metadata": {},
   "outputs": [
    {
     "data": {
      "text/plain": [
       "<Axes: ylabel='series'>"
      ]
     },
     "execution_count": 91,
     "metadata": {},
     "output_type": "execute_result"
    },
    {
     "data": {
      "image/png": "[encoded data removed]",
      "text/plain": [
       "<Figure size 600x600 with 1 Axes>"
      ]
     },
     "metadata": {},
     "output_type": "display_data"
    }
   ],
   "source": [
    "#26. Wite a program for pie chart diagram in pandas for the given series using plot function ?\n",
    "import pandas as pd\n",
    "fruits = ['apples', 'pears', 'cherries', 'bananas']\n",
    "series = pd.Series([20, 30, 40, 10], \n",
    "                   index=fruits, \n",
    "                   name='series')\n",
    "series.plot.pie(figsize=(6, 6))"
   ]
  },
  {
   "cell_type": "code",
   "execution_count": 92,
   "id": "3109fd30",
   "metadata": {},
   "outputs": [
    {
     "name": "stdout",
     "output_type": "stream",
     "text": [
      "1993-12-14\n"
     ]
    }
   ],
   "source": [
    "#27.  Write a program to print the date and time using pandas date-time function?\n",
    "from datetime import date\n",
    "x = date(1993, 12, 14)\n",
    "print(x)"
   ]
  },
  {
   "cell_type": "code",
   "execution_count": 93,
   "id": "dc318987",
   "metadata": {},
   "outputs": [
    {
     "name": "stdout",
     "output_type": "stream",
     "text": [
      "0001-01-01\n",
      "9999-12-31\n"
     ]
    }
   ],
   "source": [
    "#28.  Write a program to instantiate dates in the range from January 1, 1 to December 31, 9999. This can be inquired from the attributes min and max function ?\n",
    "from datetime import date\n",
    "print(date.min)\n",
    "print(date.max)"
   ]
  },
  {
   "cell_type": "code",
   "execution_count": 94,
   "id": "54a8ee18",
   "metadata": {},
   "outputs": [
    {
     "data": {
      "text/plain": [
       "DatetimeIndex(['2011-01-01 00:00:00', '2011-01-01 01:00:00',\n",
       "               '2011-01-01 02:00:00', '2011-01-01 03:00:00',\n",
       "               '2011-01-01 04:00:00', '2011-01-01 05:00:00',\n",
       "               '2011-01-01 06:00:00', '2011-01-01 07:00:00',\n",
       "               '2011-01-01 08:00:00', '2011-01-01 09:00:00'],\n",
       "              dtype='datetime64[ns]', freq='H')"
      ]
     },
     "execution_count": 94,
     "metadata": {},
     "output_type": "execute_result"
    }
   ],
   "source": [
    "#29. Write a program to show an output a dataframe of data and time ?\n",
    "import pandas as pd\n",
    "data = pd.date_range('1/1/2011', periods = 10, freq ='H')\n",
    " \n",
    "data"
   ]
  },
  {
   "cell_type": "code",
   "execution_count": 95,
   "id": "2a24e6b6",
   "metadata": {},
   "outputs": [
    {
     "data": {
      "text/plain": [
       "2017-03-31    25\n",
       "2017-03-30    50\n",
       "2017-03-29    15\n",
       "2017-03-28    67\n",
       "2017-03-27    70\n",
       "2017-03-26     9\n",
       "2017-03-25    28\n",
       "2017-03-24    30\n",
       "2017-03-23    32\n",
       "2017-03-22    12\n",
       "dtype: int64"
      ]
     },
     "execution_count": 95,
     "metadata": {},
     "output_type": "execute_result"
    }
   ],
   "source": [
    "#30. Using time series in pandas write the program to find the index consisting of time stamps?\n",
    "import numpy as np\n",
    "import pandas as pd\n",
    "from datetime import datetime, timedelta as delta\n",
    "ndays = 10\n",
    "start = datetime(2017, 3, 31)\n",
    "dates = [start - delta(days=x) for x in range(0, ndays)]\n",
    "values = [25, 50, 15, 67, 70, 9, 28, 30, 32, 12]\n",
    "ts = pd.Series(values, index=dates)\n",
    "ts"
   ]
  },
  {
   "cell_type": "code",
   "execution_count": 96,
   "id": "d0257226",
   "metadata": {},
   "outputs": [
    {
     "name": "stdout",
     "output_type": "stream",
     "text": [
      "2010-10-09 08:45:00    11.0\n",
      "2010-10-09 09:45:00    21.0\n",
      "2010-10-09 10:45:00     8.0\n",
      "2010-10-09 11:45:00    18.0\n",
      "2010-10-09 12:45:00    65.0\n",
      "2010-10-09 13:45:00    18.0\n",
      "2010-10-09 14:45:00    32.0\n",
      "2010-10-09 15:45:00    10.0\n",
      "2010-10-09 16:45:00     5.0\n",
      "2010-10-09 17:45:00    32.0\n",
      "2010-10-09 18:45:00     NaN\n",
      "Freq: H, dtype: float64\n"
     ]
    }
   ],
   "source": [
    "#31. Write a program to using a function to return the values lying in the given time duration?\n",
    "\n",
    "import pandas as pd\n",
    "sr = pd.Series([11, 21, 8, 18, 65, 18, 32, 10, 5, 32, None])\n",
    "index_ = pd.date_range('2010-10-09 08:45', periods = 11, freq ='H')\n",
    "sr.index = index_\n",
    "print(sr)"
   ]
  },
  {
   "cell_type": "code",
   "execution_count": 1,
   "id": "2f11abf8",
   "metadata": {},
   "outputs": [],
   "source": [
    "#UNIT 5\n",
    "#VISUALIZATION WITH MATPLOTLIB"
   ]
  },
  {
   "cell_type": "code",
   "execution_count": 2,
   "id": "62d183c0",
   "metadata": {},
   "outputs": [
    {
     "data": {
      "image/png": "[encoded data removed]",
      "text/plain": [
       "<Figure size 640x480 with 1 Axes>"
      ]
     },
     "metadata": {},
     "output_type": "display_data"
    }
   ],
   "source": [
    "#1.Write a python code for simple line plot .\n",
    "import matplotlib.pyplot as plt\n",
    "plt.plot([-1, -4.5, 16, 23, 78, 22, 3])\n",
    "plt.show()"
   ]
  },
  {
   "cell_type": "code",
   "execution_count": 3,
   "id": "b03e221f",
   "metadata": {},
   "outputs": [
    {
     "data": {
      "image/png": "[encoded data removed]",
      "text/plain": [
       "<Figure size 640x480 with 1 Axes>"
      ]
     },
     "metadata": {},
     "output_type": "display_data"
    }
   ],
   "source": [
    "#2.Write a python code for scatter plot . \n",
    "import matplotlib.pyplot as plt\n",
    "plt.plot([-1, -4.5, 16, 23, 78, 22, 3], \"ob\")\n",
    "plt.show()"
   ]
  },
  {
   "cell_type": "code",
   "execution_count": 4,
   "id": "77bc82f2",
   "metadata": {},
   "outputs": [
    {
     "data": {
      "text/plain": [
       "[Text(0.5, 0, 'Day'),\n",
       " Text(0, 0.5, 'Temperature in Celsius'),\n",
       " Text(0.5, 1.0, 'Temperature Graph')]"
      ]
     },
     "execution_count": 4,
     "metadata": {},
     "output_type": "execute_result"
    },
    {
     "data": {
      "image/png": "[encoded data removed]",
      "text/plain": [
       "<Figure size 640x480 with 1 Axes>"
      ]
     },
     "metadata": {},
     "output_type": "display_data"
    }
   ],
   "source": [
    "#3.Write a python code for line plot and display with axis name with title. \n",
    "#(i)x-axis named as “day”\n",
    "#(ii)y-axis named as “Temperature in Celsius.”\n",
    "#(iii) title named as “Temperature Graph.”\n",
    "\n",
    "import matplotlib.pyplot as plt\n",
    "days = range(1, 9)\n",
    "celsius_values = [25.6, 24.1, 26.7, 28.3, 27.5, 30.5, 32.8, 33.1]\n",
    "fig, ax = plt.subplots()\n",
    "ax.plot(days, celsius_values)\n",
    "ax.set(xlabel='Day',\n",
    "       ylabel='Temperature in Celsius',\n",
    "       title='Temperature Graph')"
   ]
  },
  {
   "cell_type": "code",
   "execution_count": 5,
   "id": "e2fa5841",
   "metadata": {},
   "outputs": [
    {
     "data": {
      "text/plain": [
       "[<matplotlib.lines.Line2D at 0x1c1725954e0>,\n",
       " <matplotlib.lines.Line2D at 0x1c172595570>,\n",
       " <matplotlib.lines.Line2D at 0x1c172595540>,\n",
       " <matplotlib.lines.Line2D at 0x1c1725956c0>]"
      ]
     },
     "execution_count": 5,
     "metadata": {},
     "output_type": "execute_result"
    },
    {
     "data": {
      "image/png": "[encoded data removed]",
      "text/plain": [
       "<Figure size 640x480 with 1 Axes>"
      ]
     },
     "metadata": {},
     "output_type": "display_data"
    }
   ],
   "source": [
    "#4.Write a python code for multiple plot(scatter,line).\n",
    "import matplotlib.pyplot as plt\n",
    "days = list(range(1,9))\n",
    "celsius_min = [19.6, 24.1, 26.7, 28.3, 27.5, 30.5, 32.8, 33.1]\n",
    "celsius_max = [24.8, 28.9, 31.3, 33.0, 34.9, 35.6, 38.4, 39.2]\n",
    "fig, ax = plt.subplots()\n",
    "ax.set(xlabel='Day',\n",
    "       ylabel='Temperature in Celsius',\n",
    "       title='Temperature Graph')\n",
    "ax.plot(days, celsius_min,\n",
    "        days, celsius_min, \"oy\",\n",
    "        days, celsius_max,\n",
    "        days, celsius_max, \"or\")"
   ]
  },
  {
   "cell_type": "code",
   "execution_count": 6,
   "id": "92232639",
   "metadata": {},
   "outputs": [
    {
     "data": {
      "image/png": "[encoded data removed]",
      "text/plain": [
       "<Figure size 640x480 with 1 Axes>"
      ]
     },
     "metadata": {},
     "output_type": "display_data"
    }
   ],
   "source": [
    "#5.Write a python code to display the bar plot.\n",
    "import matplotlib.pyplot as plt\n",
    "import numpy as np\n",
    "years = [str(year) for year in range(2010, 2021)]\n",
    "visitors = (1241, 50927, 162242, 222093, \n",
    "            665004, 2071987, 2460407, 3799215, \n",
    "            5399000, 5474016, 6003672)\n",
    "plt.bar(years, visitors, color=\"green\")\n",
    "plt.xlabel(\"Years\")\n",
    "plt.ylabel(\"Values\")\n",
    "plt.title(\"Bar Chart \")\n",
    "plt.plot()\n",
    "plt.show()"
   ]
  },
  {
   "cell_type": "code",
   "execution_count": 7,
   "id": "d30fedc6",
   "metadata": {},
   "outputs": [
    {
     "ename": "FileNotFoundError",
     "evalue": "[Errno 2] No such file or directory: '../data/GDP.txt'",
     "output_type": "error",
     "traceback": [
      "\u001b[1;31m---------------------------------------------------------------------------\u001b[0m",
      "\u001b[1;31mFileNotFoundError\u001b[0m                         Traceback (most recent call last)",
      "Cell \u001b[1;32mIn[7], line 6\u001b[0m\n\u001b[0;32m      4\u001b[0m \u001b[38;5;28;01mimport\u001b[39;00m \u001b[38;5;21;01mnumpy\u001b[39;00m \u001b[38;5;28;01mas\u001b[39;00m \u001b[38;5;21;01mnp\u001b[39;00m\n\u001b[0;32m      5\u001b[0m land_GDP_per_capita \u001b[38;5;241m=\u001b[39m []\n\u001b[1;32m----> 6\u001b[0m \u001b[38;5;28;01mwith\u001b[39;00m \u001b[38;5;28;43mopen\u001b[39;49m\u001b[43m(\u001b[49m\u001b[38;5;124;43m'\u001b[39;49m\u001b[38;5;124;43m../data/GDP.txt\u001b[39;49m\u001b[38;5;124;43m'\u001b[39;49m\u001b[43m)\u001b[49m \u001b[38;5;28;01mas\u001b[39;00m fh:\n\u001b[0;32m      7\u001b[0m     \u001b[38;5;28;01mfor\u001b[39;00m line \u001b[38;5;129;01min\u001b[39;00m fh:\n\u001b[0;32m      8\u001b[0m         index, \u001b[38;5;241m*\u001b[39mland, gdp, population \u001b[38;5;241m=\u001b[39m line\u001b[38;5;241m.\u001b[39msplit()\n",
      "File \u001b[1;32m~\\anaconda3\\lib\\site-packages\\IPython\\core\\interactiveshell.py:282\u001b[0m, in \u001b[0;36m_modified_open\u001b[1;34m(file, *args, **kwargs)\u001b[0m\n\u001b[0;32m    275\u001b[0m \u001b[38;5;28;01mif\u001b[39;00m file \u001b[38;5;129;01min\u001b[39;00m {\u001b[38;5;241m0\u001b[39m, \u001b[38;5;241m1\u001b[39m, \u001b[38;5;241m2\u001b[39m}:\n\u001b[0;32m    276\u001b[0m     \u001b[38;5;28;01mraise\u001b[39;00m \u001b[38;5;167;01mValueError\u001b[39;00m(\n\u001b[0;32m    277\u001b[0m         \u001b[38;5;124mf\u001b[39m\u001b[38;5;124m\"\u001b[39m\u001b[38;5;124mIPython won\u001b[39m\u001b[38;5;124m'\u001b[39m\u001b[38;5;124mt let you open fd=\u001b[39m\u001b[38;5;132;01m{\u001b[39;00mfile\u001b[38;5;132;01m}\u001b[39;00m\u001b[38;5;124m by default \u001b[39m\u001b[38;5;124m\"\u001b[39m\n\u001b[0;32m    278\u001b[0m         \u001b[38;5;124m\"\u001b[39m\u001b[38;5;124mas it is likely to crash IPython. If you know what you are doing, \u001b[39m\u001b[38;5;124m\"\u001b[39m\n\u001b[0;32m    279\u001b[0m         \u001b[38;5;124m\"\u001b[39m\u001b[38;5;124myou can use builtins\u001b[39m\u001b[38;5;124m'\u001b[39m\u001b[38;5;124m open.\u001b[39m\u001b[38;5;124m\"\u001b[39m\n\u001b[0;32m    280\u001b[0m     )\n\u001b[1;32m--> 282\u001b[0m \u001b[38;5;28;01mreturn\u001b[39;00m io_open(file, \u001b[38;5;241m*\u001b[39margs, \u001b[38;5;241m*\u001b[39m\u001b[38;5;241m*\u001b[39mkwargs)\n",
      "\u001b[1;31mFileNotFoundError\u001b[0m: [Errno 2] No such file or directory: '../data/GDP.txt'"
     ]
    }
   ],
   "source": [
    "#6.Write a python to find the GDP  using bar plot to display the output .\n",
    "\n",
    "import matplotlib.pyplot as plt\n",
    "import numpy as np\n",
    "land_GDP_per_capita = []\n",
    "with open('../data/GDP.txt') as fh:\n",
    "    for line in fh:\n",
    "        index, *land, gdp, population = line.split()\n",
    "        land = \" \".join(land)\n",
    "        gdp = int(gdp.replace(',', ''))\n",
    "        population = int(population.replace(',', ''))\n",
    "        per_capita = int(round(gdp * 1000000 / population, 0))\n",
    "        land_GDP_per_capita.append((land, per_capita))\n",
    "land_GDP_per_capita.sort(key=lambda x: x[1], reverse=True)\n",
    "countries, GDP_per_capita = zip(*land_GDP_per_capita)\n",
    "fig = plt.figure(figsize=(6,5), dpi=200)\n",
    "left, bottom, width, height = 0.1, 0.3, 0.8, 0.6\n",
    "ax = fig.add_axes([left, bottom, width, height]) \n",
    "ax.bar(x=np.arange(len(GDP_per_capita)), # The x coordinates of the bars. \n",
    "       height=GDP_per_capita, # the height(s) of the vars \n",
    "       color=\"green\", align=\"center\",\n",
    "       tick_label=countries)\n",
    "ax.set_ylabel('in thousands of $')\n",
    "#ax.set_xticks(rotation='vertical')\n",
    "ax.set_title('Largest Economies by nominal GDP in 2018')\n",
    "plt.xticks(rotation=90)\n",
    "plt.show()"
   ]
  },
  {
   "cell_type": "code",
   "execution_count": 8,
   "id": "17f4af6e",
   "metadata": {},
   "outputs": [
    {
     "data": {
      "image/png": "[encoded data removed]",
      "text/plain": [
       "<Figure size 640x480 with 1 Axes>"
      ]
     },
     "metadata": {},
     "output_type": "display_data"
    }
   ],
   "source": [
    "#7.write a python code to display the bar plot in vertical order .\n",
    "import matplotlib.pyplot as plt\n",
    "import numpy as np\n",
    "import matplotlib.pyplot as plt\n",
    "# restore default parameters:\n",
    "plt.rcdefaults() \n",
    "fig, ax = plt.subplots()\n",
    "personen = ('Michael', 'Dorothea', 'Robert', 'Bea', 'Uli')\n",
    "y_pos = np.arange(len(personen))\n",
    "cups = (15, 22, 24, 39, 12)\n",
    "ax.barh(y_pos, cups, align='center',\n",
    "        color='green', ecolor='black')\n",
    "ax.set_yticks(y_pos)\n",
    "ax.set_yticklabels(personen)\n",
    "ax.invert_yaxis()  \n",
    "ax.set_xlabel('Cups')\n",
    "ax.set_title('Coffee Consumption')\n",
    "plt.show()"
   ]
  },
  {
   "cell_type": "code",
   "execution_count": 9,
   "id": "7ab4110d",
   "metadata": {},
   "outputs": [
    {
     "data": {
      "image/png": "[encoded data removed]",
      "text/plain": [
       "<Figure size 1200x1000 with 1 Axes>"
      ]
     },
     "metadata": {},
     "output_type": "display_data"
    }
   ],
   "source": [
    "#8.Write a python code for grouped  bar charts .\n",
    "import matplotlib.pyplot as plt\n",
    "import numpy as np\n",
    "\n",
    "last_week_cups = (20, 35, 30, 35, 27)\n",
    "this_week_cups = (25, 32, 34, 20, 25)\n",
    "names = ['Mary', 'Paul', 'Billy', 'Franka', 'Stephan']\n",
    "\n",
    "fig = plt.figure(figsize=(6,5), dpi=200)\n",
    "left, bottom, width, height = 0.1, 0.3, 0.8, 0.6\n",
    "ax = fig.add_axes([left, bottom, width, height]) \n",
    " \n",
    "width = 0.35   \n",
    "ticks = np.arange(len(names))    \n",
    "ax.bar(ticks, last_week_cups, width, label='Last week')\n",
    "ax.bar(ticks + width, this_week_cups, width, align=\"center\",\n",
    "    label='This week')\n",
    "\n",
    "ax.set_ylabel('Cups of Coffee')\n",
    "ax.set_title('Coffee Consummation')\n",
    "ax.set_xticks(ticks + width/2)\n",
    "ax.set_xticklabels(names)\n",
    "\n",
    "ax.legend(loc='best')\n",
    "plt.show()"
   ]
  },
  {
   "cell_type": "code",
   "execution_count": 10,
   "id": "62657332",
   "metadata": {},
   "outputs": [
    {
     "data": {
      "text/plain": [
       "<BarContainer object of 5 artists>"
      ]
     },
     "execution_count": 10,
     "metadata": {},
     "output_type": "execute_result"
    },
    {
     "data": {
      "image/png": "[encoded data removed]",
      "text/plain": [
       "<Figure size 1200x1000 with 1 Axes>"
      ]
     },
     "metadata": {},
     "output_type": "display_data"
    }
   ],
   "source": [
    "#9.Write a python code to display the stacked bar  chart .\n",
    "import matplotlib.pyplot as plt\n",
    "import numpy as np\n",
    "\n",
    "coffee = np.array([5, 5, 7, 6, 7])\n",
    "tea = np.array([1, 2, 0, 2, 0])\n",
    "water = np.array([10, 12, 14, 12, 15])\n",
    "names = ['Mary', 'Paul', 'Billy', 'Franka', 'Stephan']\n",
    "\n",
    "fig = plt.figure(figsize=(6,5), dpi=200)\n",
    "left, bottom, width, height = 0.2, 0.1, 0.7, 0.8\n",
    "ax = fig.add_axes([left, bottom, width, height]) \n",
    " \n",
    "width = 0.35   \n",
    "ticks = np.arange(len(names))    \n",
    "ax.bar(ticks, tea, width, label='Coffee', bottom=water+coffee)\n",
    "ax.bar(ticks, coffee, width, align=\"center\", label='Tea', \n",
    "       bottom=water)\n",
    "ax.bar(ticks, water, width, align=\"center\", label='Water')"
   ]
  },
  {
   "cell_type": "code",
   "execution_count": 11,
   "id": "ebaae67d",
   "metadata": {},
   "outputs": [
    {
     "data": {
      "image/png": "[encoded data removed]",
      "text/plain": [
       "<Figure size 640x480 with 1 Axes>"
      ]
     },
     "metadata": {},
     "output_type": "display_data"
    }
   ],
   "source": [
    "#10.Write a python code  for histogram . \n",
    "import matplotlib.pyplot as plt\n",
    "import numpy as np\n",
    "gaussian_numbers = np.random.normal(size=10000)\n",
    "gaussian_numbers\n",
    "plt.hist(gaussian_numbers, bins=20)\n",
    "plt.title(\"Gaussian Histogram\")\n",
    "plt.xlabel(\"Value\")\n",
    "plt.ylabel(\"Frequency\")\n",
    "plt.show()"
   ]
  },
  {
   "cell_type": "code",
   "execution_count": 12,
   "id": "587e05e2",
   "metadata": {},
   "outputs": [
    {
     "name": "stdout",
     "output_type": "stream",
     "text": [
      "n:  [  47.  194.  712. 1709. 2623. 2479. 1488.  562.  156.   30.] 10000.0\n",
      "bins:  [-3.30962495 -2.63133474 -1.95304453 -1.27475431 -0.5964641   0.08182611\n",
      "  0.76011632  1.43840653  2.11669674  2.79498695  3.47327716]\n",
      "0.678290210257551\n",
      "0.6782902102575508\n",
      "0.6782902102575508\n",
      "0.678290210257551\n",
      "0.678290210257551\n",
      "0.6782902102575505\n",
      "0.6782902102575514\n",
      "0.6782902102575505\n",
      "0.6782902102575505\n",
      "0.6782902102575519\n",
      "patches:  <BarContainer object of 10 artists>\n",
      "Rectangle(xy=(-2.63133, 0), width=0.67829, height=194, angle=0)\n",
      "Rectangle(xy=(-1.95304, 0), width=0.67829, height=712, angle=0)\n"
     ]
    },
    {
     "data": {
      "image/png": "[encoded data removed]",
      "text/plain": [
       "<Figure size 640x480 with 1 Axes>"
      ]
     },
     "metadata": {},
     "output_type": "display_data"
    }
   ],
   "source": [
    "#11.Write a python code to display the histogram using binnings .\n",
    "n, bins, patches = plt.hist(gaussian_numbers)\n",
    "print(\"n: \", n, sum(n))\n",
    "print(\"bins: \", bins)\n",
    "for i in range(len(bins)-1):\n",
    "    print(bins[i+1] -bins[i])\n",
    "print(\"patches: \", patches)\n",
    "print(patches[1])\n",
    "print(patches[2])"
   ]
  },
  {
   "cell_type": "code",
   "execution_count": 13,
   "id": "44a0faf3",
   "metadata": {},
   "outputs": [
    {
     "data": {
      "image/png": "[encoded data removed]",
      "text/plain": [
       "<Figure size 640x480 with 1 Axes>"
      ]
     },
     "metadata": {},
     "output_type": "display_data"
    }
   ],
   "source": [
    "#12.Write a python code to display histogram to increase the no.of.binnings \n",
    "plt.hist(gaussian_numbers, bins=100)\n",
    "plt.show()"
   ]
  },
  {
   "cell_type": "code",
   "execution_count": 14,
   "id": "da9ce118",
   "metadata": {},
   "outputs": [
    {
     "data": {
      "image/png": "[encoded data removed]",
      "text/plain": [
       "<Figure size 640x480 with 1 Axes>"
      ]
     },
     "metadata": {},
     "output_type": "display_data"
    }
   ],
   "source": [
    "#13.Write a python code to display the histogram in horizontal orientation.\n",
    "plt.hist(gaussian_numbers, \n",
    "         bins=100, \n",
    "         orientation=\"horizontal\")\n",
    "plt.show()"
   ]
  },
  {
   "cell_type": "code",
   "execution_count": 15,
   "id": "8ce6e5db",
   "metadata": {},
   "outputs": [
    {
     "data": {
      "image/png": "[encoded data removed]",
      "text/plain": [
       "<Figure size 640x480 with 1 Axes>"
      ]
     },
     "metadata": {},
     "output_type": "display_data"
    }
   ],
   "source": [
    "#14.Write a python code to display the histogram with edge color.\n",
    "plt.hist(gaussian_numbers, \n",
    "         bins=100, \n",
    "         density=True, \n",
    "         stacked=True, \n",
    "         edgecolor=\"#6A9662\",\n",
    "         color=\"#DDFFDD\")\n",
    "plt.show()"
   ]
  },
  {
   "cell_type": "code",
   "execution_count": 16,
   "id": "a70bb44e",
   "metadata": {},
   "outputs": [
    {
     "data": {
      "image/png": "[encoded data removed]",
      "text/plain": [
       "<Figure size 640x480 with 1 Axes>"
      ]
     },
     "metadata": {},
     "output_type": "display_data"
    }
   ],
   "source": [
    "#15.Write a python code to display the histogram in cumulative using bins .\n",
    "plt.hist(gaussian_numbers, \n",
    "         bins=100, \n",
    "         stacked=True,\n",
    "         cumulative=True)\n",
    "plt.show()"
   ]
  },
  {
   "cell_type": "code",
   "execution_count": 17,
   "id": "835c01e4",
   "metadata": {},
   "outputs": [
    {
     "data": {
      "image/png": "[encoded data removed]",
      "text/plain": [
       "<Figure size 640x480 with 1 Axes>"
      ]
     },
     "metadata": {},
     "output_type": "display_data"
    }
   ],
   "source": [
    "#16.Write a python code to display scatter plot using  markers.  \n",
    "import matplotlib.pyplot as plt\n",
    "import numpy as np\n",
    "x = np.arange(0, 11)\n",
    "y1 = np.random.randint(2, 7, (11,))\n",
    "y2 = np.random.randint(9, 14, (11,))\n",
    "y3 = np.random.randint(15, 25, (11,))\n",
    "plt.scatter(x, y1)\n",
    "plt.scatter(x, y2, marker='v', color='r')\n",
    "plt.scatter(x, y3, marker='^', color='m')\n",
    "plt.title('Scatter Plot Example')\n",
    "plt.show()"
   ]
  },
  {
   "cell_type": "code",
   "execution_count": 18,
   "id": "ff2e176d",
   "metadata": {},
   "outputs": [
    {
     "name": "stdout",
     "output_type": "stream",
     "text": [
      "[[-3 -2 -1  0  1  2  3]\n",
      " [-3 -2 -1  0  1  2  3]\n",
      " [-3 -2 -1  0  1  2  3]\n",
      " [-3 -2 -1  0  1  2  3]\n",
      " [-3 -2 -1  0  1  2  3]\n",
      " [-3 -2 -1  0  1  2  3]\n",
      " [-3 -2 -1  0  1  2  3]]\n",
      "[[-3 -3 -3 -3 -3 -3 -3]\n",
      " [-2 -2 -2 -2 -2 -2 -2]\n",
      " [-1 -1 -1 -1 -1 -1 -1]\n",
      " [ 0  0  0  0  0  0  0]\n",
      " [ 1  1  1  1  1  1  1]\n",
      " [ 2  2  2  2  2  2  2]\n",
      " [ 3  3  3  3  3  3  3]]\n"
     ]
    }
   ],
   "source": [
    "#17.Write  a python code for contour plot without charts  .\n",
    "%matplotlib inline\n",
    "import matplotlib.pyplot as plt\n",
    "import numpy as np\n",
    "n, m = 7, 7\n",
    "start = -3\n",
    "x_vals = np.arange(start, start+n, 1)\n",
    "y_vals = np.arange(start, start+m, 1)\n",
    "X, Y = np.meshgrid(x_vals, y_vals)\n",
    "print(X)\n",
    "print(Y)"
   ]
  },
  {
   "cell_type": "code",
   "execution_count": 19,
   "id": "763ac365",
   "metadata": {},
   "outputs": [
    {
     "data": {
      "image/png": "[encoded data removed]",
      "text/plain": [
       "<Figure size 640x480 with 1 Axes>"
      ]
     },
     "metadata": {},
     "output_type": "display_data"
    }
   ],
   "source": [
    "#18.Write a  python code to display the scatter diagram using contour plot.\n",
    "#(i)\tX axis named as “x”\n",
    "#(ii)\tY-axis named as “y”\n",
    "#(iii)\tTitled named as “Scatter  using contour plot”\n",
    "fig, ax = plt.subplots()\n",
    "ax.scatter(X, Y, color=\"green\")\n",
    "ax.set_title('Scatter  using contour plot')\n",
    "ax.set_xlabel('x')\n",
    "ax.set_ylabel('y')\n",
    "plt.show()"
   ]
  },
  {
   "cell_type": "code",
   "execution_count": 20,
   "id": "05a7e62f",
   "metadata": {},
   "outputs": [
    {
     "name": "stderr",
     "output_type": "stream",
     "text": [
      "C:\\Users\\amirt\\AppData\\Local\\Temp\\ipykernel_4992\\497990493.py:5: RuntimeWarning: invalid value encountered in sqrt\n",
      "  Z = np.sqrt(X*2 + Y*2)\n"
     ]
    },
    {
     "data": {
      "image/png": "[encoded data removed]",
      "text/plain": [
       "<Figure size 600x500 with 1 Axes>"
      ]
     },
     "metadata": {},
     "output_type": "display_data"
    }
   ],
   "source": [
    "#19.Write a python code to display contour plot using clabel method.\n",
    "fig = plt.figure(figsize=(6,5))\n",
    "left, bottom, width, height = 0.1, 0.1, 0.8, 0.8\n",
    "ax = fig.add_axes([left, bottom, width, height]) \n",
    "Z = np.sqrt(X*2 + Y*2)\n",
    "cp = ax.contour(X, Y, Z)\n",
    "ax.clabel(cp, inline=True, \n",
    "          fontsize=10)\n",
    "ax.set_title('Contour Plot Using  clabel  method')\n",
    "ax.set_xlabel('x (cm)')\n",
    "ax.set_ylabel('y (cm)')\n",
    "plt.show()"
   ]
  },
  {
   "cell_type": "code",
   "execution_count": 21,
   "id": "4cce6a22",
   "metadata": {},
   "outputs": [
    {
     "data": {
      "image/png": "[encoded data removed]",
      "text/plain": [
       "<Figure size 640x480 with 1 Axes>"
      ]
     },
     "metadata": {},
     "output_type": "display_data"
    }
   ],
   "source": [
    "#20.Write a python code  for changing the linestyle= “dashed line” and color=”black” in contour plot.\n",
    "import matplotlib.pyplot as plt\n",
    "plt.figure()\n",
    "cp = plt.contour(X, Y, Z, colors='black', linestyles='dashed')\n",
    "plt.clabel(cp, inline=True, \n",
    "          fontsize=10)\n",
    "plt.title('Contour Plot')\n",
    "plt.xlabel('x (cm)')\n",
    "plt.ylabel('y (cm)')\n",
    "plt.show()"
   ]
  },
  {
   "cell_type": "code",
   "execution_count": 22,
   "id": "b5554e1e",
   "metadata": {},
   "outputs": [
    {
     "name": "stderr",
     "output_type": "stream",
     "text": [
      "C:\\Users\\amirt\\AppData\\Local\\Temp\\ipykernel_4992\\3168686536.py:11: RuntimeWarning: invalid value encountered in sqrt\n",
      "  Z = np.sqrt(X*2 + Y*2)\n"
     ]
    },
    {
     "data": {
      "image/png": "[encoded data removed]",
      "text/plain": [
       "<Figure size 600x500 with 2 Axes>"
      ]
     },
     "metadata": {},
     "output_type": "display_data"
    }
   ],
   "source": [
    "#21.Write a python code for filled color using contour plot .\n",
    "import matplotlib.pyplot as plt\n",
    "import numpy as np\n",
    "fig = plt.figure(figsize=(6,5))\n",
    "left, bottom, width, height = 0.1, 0.1, 0.8, 0.8\n",
    "ax = fig.add_axes([left, bottom, width, height]) \n",
    "start, stop, n_values = -8, 8, 800\n",
    "x_vals = np.linspace(start, stop, n_values)\n",
    "y_vals = np.linspace(start, stop, n_values)\n",
    "X, Y = np.meshgrid(x_vals, y_vals)\n",
    "Z = np.sqrt(X*2 + Y*2)\n",
    "cp = plt.contourf(X, Y, Z)\n",
    "plt.colorbar(cp)\n",
    "ax.set_title('Contour Plot')\n",
    "ax.set_xlabel('x (cm)')\n",
    "ax.set_ylabel('y (cm)')\n",
    "plt.show()"
   ]
  },
  {
   "cell_type": "code",
   "execution_count": 23,
   "id": "2e78b7e0",
   "metadata": {},
   "outputs": [
    {
     "name": "stderr",
     "output_type": "stream",
     "text": [
      "C:\\Users\\amirt\\AppData\\Local\\Temp\\ipykernel_4992\\780580193.py:7: RuntimeWarning: invalid value encountered in sqrt\n",
      "  Z = np.sqrt(X*2 + Y*2)\n"
     ]
    },
    {
     "data": {
      "image/png": "[encoded data removed]",
      "text/plain": [
       "<Figure size 640x480 with 2 Axes>"
      ]
     },
     "metadata": {},
     "output_type": "display_data"
    }
   ],
   "source": [
    "#22.Write a python code for to displaty individual color using contour plot.\n",
    "import numpy as np\n",
    "import matplotlib.pyplot as plt\n",
    "xlist = np.linspace(-3.0, 3.0, 100)\n",
    "ylist = np.linspace(-3.0, 3.0, 100)\n",
    "X, Y = np.meshgrid(xlist, ylist)\n",
    "Z = np.sqrt(X*2 + Y*2)\n",
    "plt.figure()\n",
    "contour = plt.contour(X, Y, Z)\n",
    "plt.clabel(contour, colors = 'k', fmt = '%2.1f', fontsize=12)\n",
    "c = ('#ff0000', '#ffff00', '#0000FF', '0.6', 'c', 'm')\n",
    "contour_filled = plt.contourf(X, Y, Z, colors=c)\n",
    "plt.colorbar(contour_filled)\n",
    "plt.title('Filled Contours Plot')\n",
    "plt.xlabel('x (cm)')\n",
    "plt.ylabel('y (cm)')\n",
    "plt.savefig('contourplot_own_colours.png', dpi=300)\n",
    "plt.show()"
   ]
  },
  {
   "cell_type": "code",
   "execution_count": null,
   "id": "2b06ef8c",
   "metadata": {},
   "outputs": [],
   "source": []
  }
 ],
 "metadata": {
  "kernelspec": {
   "display_name": "Python 3 (ipykernel)",
   "language": "python",
   "name": "python3"
  },
  "language_info": {
   "codemirror_mode": {
    "name": "ipython",
    "version": 3
   },
   "file_extension": ".py",
   "mimetype": "text/x-python",
   "name": "python",
   "nbconvert_exporter": "python",
   "pygments_lexer": "ipython3",
   "version": "3.10.9"
  }
 },
 "nbformat": 4,
 "nbformat_minor": 5
}
